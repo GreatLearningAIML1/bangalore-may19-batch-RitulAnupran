{
 "cells": [
  {
   "cell_type": "markdown",
   "metadata": {
    "colab_type": "text",
    "id": "YYk8NG3yOIT9"
   },
   "source": [
    "### A MNIST-like fashion product database\n",
    "\n",
    "In this, we classify the images into respective classes given in the dataset. We use a Neural Net and a Deep Neural Net in Keras to solve this and check the accuracy scores."
   ]
  },
  {
   "cell_type": "markdown",
   "metadata": {
    "colab_type": "text",
    "id": "tFO6PuxzOIT_"
   },
   "source": [
    "### Load tensorflow"
   ]
  },
  {
   "cell_type": "code",
   "execution_count": 0,
   "metadata": {
    "colab": {},
    "colab_type": "code",
    "id": "efNjNImfOIUC"
   },
   "outputs": [],
   "source": [
    "%tensorflow_version 2.x"
   ]
  },
  {
   "cell_type": "code",
   "execution_count": 0,
   "metadata": {
    "colab": {},
    "colab_type": "code",
    "id": "WB6nBMwdFU-U"
   },
   "outputs": [],
   "source": [
    "import tensorflow as tf\n",
    "tf.random.set_seed(42)"
   ]
  },
  {
   "cell_type": "code",
   "execution_count": 18,
   "metadata": {
    "colab": {
     "base_uri": "https://localhost:8080/",
     "height": 35
    },
    "colab_type": "code",
    "executionInfo": {
     "elapsed": 1230,
     "status": "ok",
     "timestamp": 1572089613169,
     "user": {
      "displayName": "Ritul Singh",
      "photoUrl": "",
      "userId": "05150505717387322309"
     },
     "user_tz": -330
    },
    "id": "l9C4aAIGOIUH",
    "outputId": "51a569eb-6524-435e-f350-ef3b1bfe7afb"
   },
   "outputs": [
    {
     "data": {
      "text/plain": [
       "'2.0.0'"
      ]
     },
     "execution_count": 18,
     "metadata": {
      "tags": []
     },
     "output_type": "execute_result"
    }
   ],
   "source": [
    "tf.__version__"
   ]
  },
  {
   "cell_type": "markdown",
   "metadata": {
    "colab_type": "text",
    "id": "HcoZBStrOIUQ"
   },
   "source": [
    "### Collect Data"
   ]
  },
  {
   "cell_type": "code",
   "execution_count": 0,
   "metadata": {
    "colab": {},
    "colab_type": "code",
    "id": "XA1WsFSeOIUS"
   },
   "outputs": [],
   "source": [
    "import keras"
   ]
  },
  {
   "cell_type": "code",
   "execution_count": 0,
   "metadata": {
    "colab": {},
    "colab_type": "code",
    "id": "qnbx7TyQOIUY"
   },
   "outputs": [],
   "source": [
    "(trainX, trainY), (testX, testY) = keras.datasets.fashion_mnist.load_data()"
   ]
  },
  {
   "cell_type": "code",
   "execution_count": 22,
   "metadata": {
    "colab": {
     "base_uri": "https://localhost:8080/",
     "height": 35
    },
    "colab_type": "code",
    "executionInfo": {
     "elapsed": 1238,
     "status": "ok",
     "timestamp": 1572089659112,
     "user": {
      "displayName": "Ritul Singh",
      "photoUrl": "",
      "userId": "05150505717387322309"
     },
     "user_tz": -330
    },
    "id": "UbiHj5YPOIUc",
    "outputId": "016f9299-83b2-44f7-ddf2-f17767fd298f"
   },
   "outputs": [
    {
     "name": "stdout",
     "output_type": "stream",
     "text": [
      "[9 2 1 1 6]\n"
     ]
    }
   ],
   "source": [
    "print(testY[0:5])"
   ]
  },
  {
   "cell_type": "code",
   "execution_count": 23,
   "metadata": {
    "colab": {
     "base_uri": "https://localhost:8080/",
     "height": 35
    },
    "colab_type": "code",
    "executionInfo": {
     "elapsed": 1248,
     "status": "ok",
     "timestamp": 1572089664222,
     "user": {
      "displayName": "Ritul Singh",
      "photoUrl": "",
      "userId": "05150505717387322309"
     },
     "user_tz": -330
    },
    "id": "2ZJ2cfqXIRjx",
    "outputId": "664b0b09-5d68-4190-e3ff-173ff7615bc8"
   },
   "outputs": [
    {
     "data": {
      "text/plain": [
       "array([9, 0, 0, ..., 3, 0, 5], dtype=uint8)"
      ]
     },
     "execution_count": 23,
     "metadata": {
      "tags": []
     },
     "output_type": "execute_result"
    }
   ],
   "source": [
    "trainY"
   ]
  },
  {
   "cell_type": "markdown",
   "metadata": {
    "colab_type": "text",
    "id": "lDAYzkwyOIUj"
   },
   "source": [
    "### Convert both training and testing labels into one-hot vectors.\n",
    "\n",
    "**Hint:** check **tf.keras.utils.to_categorical()**"
   ]
  },
  {
   "cell_type": "code",
   "execution_count": 0,
   "metadata": {
    "colab": {},
    "colab_type": "code",
    "id": "vBlfYlANOIUk"
   },
   "outputs": [],
   "source": [
    "train_labels = tf.keras.utils.to_categorical(trainY, num_classes=10)\n",
    "test_labels = tf.keras.utils.to_categorical(testY, num_classes=10)"
   ]
  },
  {
   "cell_type": "code",
   "execution_count": 25,
   "metadata": {
    "colab": {
     "base_uri": "https://localhost:8080/",
     "height": 52
    },
    "colab_type": "code",
    "executionInfo": {
     "elapsed": 1235,
     "status": "ok",
     "timestamp": 1572089676878,
     "user": {
      "displayName": "Ritul Singh",
      "photoUrl": "",
      "userId": "05150505717387322309"
     },
     "user_tz": -330
    },
    "id": "RHV3b9mzOIUq",
    "outputId": "749847d0-fff0-43b5-8d9a-ae84e2096999",
    "scrolled": true
   },
   "outputs": [
    {
     "name": "stdout",
     "output_type": "stream",
     "text": [
      "(60000,)\n",
      "('First 5 examples now are: ', array([9, 0, 0, 3, 0], dtype=uint8))\n"
     ]
    }
   ],
   "source": [
    "print(trainY.shape)\n",
    "print('First 5 examples now are: ', trainY[0:5])"
   ]
  },
  {
   "cell_type": "code",
   "execution_count": 26,
   "metadata": {
    "colab": {
     "base_uri": "https://localhost:8080/",
     "height": 35
    },
    "colab_type": "code",
    "executionInfo": {
     "elapsed": 1055,
     "status": "ok",
     "timestamp": 1572089683841,
     "user": {
      "displayName": "Ritul Singh",
      "photoUrl": "",
      "userId": "05150505717387322309"
     },
     "user_tz": -330
    },
    "id": "8F_83stFHbfd",
    "outputId": "7cd74d2d-9f88-48b8-fb05-8e65cae695f9"
   },
   "outputs": [
    {
     "name": "stdout",
     "output_type": "stream",
     "text": [
      "(60000, 28, 28)\n"
     ]
    }
   ],
   "source": [
    "print(trainX.shape)\n"
   ]
  },
  {
   "cell_type": "code",
   "execution_count": 27,
   "metadata": {
    "colab": {
     "base_uri": "https://localhost:8080/",
     "height": 139
    },
    "colab_type": "code",
    "executionInfo": {
     "elapsed": 1746,
     "status": "ok",
     "timestamp": 1572089694348,
     "user": {
      "displayName": "Ritul Singh",
      "photoUrl": "",
      "userId": "05150505717387322309"
     },
     "user_tz": -330
    },
    "id": "dXAQBIrpHsri",
    "outputId": "9460a0c2-21f9-4ef3-ee1e-1b2768af94c0"
   },
   "outputs": [
    {
     "data": {
      "text/plain": [
       "array([[0., 0., 0., ..., 0., 0., 1.],\n",
       "       [1., 0., 0., ..., 0., 0., 0.],\n",
       "       [1., 0., 0., ..., 0., 0., 0.],\n",
       "       ...,\n",
       "       [0., 0., 0., ..., 0., 0., 0.],\n",
       "       [1., 0., 0., ..., 0., 0., 0.],\n",
       "       [0., 0., 0., ..., 0., 0., 0.]], dtype=float32)"
      ]
     },
     "execution_count": 27,
     "metadata": {
      "tags": []
     },
     "output_type": "execute_result"
    }
   ],
   "source": [
    "train_labels"
   ]
  },
  {
   "cell_type": "markdown",
   "metadata": {
    "colab_type": "text",
    "id": "FwhQ8e7VOIUw"
   },
   "source": [
    "### Visualize the data\n",
    "\n",
    "Plot first 10 images in the triaining set and their labels."
   ]
  },
  {
   "cell_type": "code",
   "execution_count": 0,
   "metadata": {
    "colab": {},
    "colab_type": "code",
    "id": "qMK1jZP2AQRR"
   },
   "outputs": [],
   "source": [
    "class_names = ['T-shirt/top', 'Trouser', 'Pullover', 'Dress', 'Coat',\n",
    "               'Sandal', 'Shirt', 'Sneaker', 'Bag', 'Ankle boot']"
   ]
  },
  {
   "cell_type": "code",
   "execution_count": 29,
   "metadata": {
    "colab": {
     "base_uri": "https://localhost:8080/",
     "height": 96
    },
    "colab_type": "code",
    "executionInfo": {
     "elapsed": 1816,
     "status": "ok",
     "timestamp": 1572089710561,
     "user": {
      "displayName": "Ritul Singh",
      "photoUrl": "",
      "userId": "05150505717387322309"
     },
     "user_tz": -330
    },
    "id": "m78KhuA02o4T",
    "outputId": "2c5dcb1a-c131-478d-edb5-804b0e7a3c1d"
   },
   "outputs": [
    {
     "data": {
      "image/png": "[encoded data removed]",
      "text/plain": [
       "<Figure size 720x720 with 10 Axes>"
      ]
     },
     "metadata": {
      "tags": []
     },
     "output_type": "display_data"
    }
   ],
   "source": [
    "import matplotlib.pyplot as plt\n",
    "plt.figure(figsize=(10,10))\n",
    "for i in range(10):\n",
    "    plt.subplot(1,10,i+1)\n",
    "    plt.xticks([])\n",
    "    plt.yticks([])\n",
    "    plt.grid(False)\n",
    "    plt.imshow(trainX[i], cmap=plt.cm.binary)\n",
    "    plt.xlabel(class_names[trainY[i]])\n",
    "plt.show()"
   ]
  },
  {
   "cell_type": "markdown",
   "metadata": {
    "colab_type": "text",
    "id": "l4TbJGeSOIU4"
   },
   "source": [
    "### Build a neural Network with a cross entropy loss function and sgd optimizer in Keras. The output layer with 10 neurons as we have 10 classes."
   ]
  },
  {
   "cell_type": "code",
   "execution_count": 0,
   "metadata": {
    "colab": {},
    "colab_type": "code",
    "id": "Ac06XZZTOIU6"
   },
   "outputs": [],
   "source": [
    "#Initialize Sequential model\n",
    "model = tf.keras.models.Sequential()\n",
    "\n",
    "#Reshape data from 2D to 1D -> 28x28 to 784\n",
    "model.add(tf.keras.layers.Reshape((784,),input_shape=(28,28,)))\n",
    "\n",
    "#Normalize the data\n",
    "#BatchNormalization -- used to feed normalizing to model\n",
    "model.add(tf.keras.layers.BatchNormalization())\n",
    "\n",
    "#Add Dense Layer which provides 10 Outputs after applying softmax\n",
    "#Creates 10 equations\n",
    "model.add(tf.keras.layers.Dense(10, activation='softmax'))\n",
    "\n",
    "#Compile the model\n",
    "model.compile(optimizer='sgd', loss='categorical_crossentropy', \n",
    "              metrics=['accuracy'])\n",
    "#If Sigmoid, give Binary_crossentropy"
   ]
  },
  {
   "cell_type": "markdown",
   "metadata": {
    "colab_type": "text",
    "id": "3hQpLv3aOIU_"
   },
   "source": [
    "### Execute the model using model.fit()"
   ]
  },
  {
   "cell_type": "code",
   "execution_count": 31,
   "metadata": {
    "colab": {
     "base_uri": "https://localhost:8080/",
     "height": 1000
    },
    "colab_type": "code",
    "executionInfo": {
     "elapsed": 564,
     "status": "ok",
     "timestamp": 1572089905574,
     "user": {
      "displayName": "Ritul Singh",
      "photoUrl": "",
      "userId": "05150505717387322309"
     },
     "user_tz": -330
    },
    "id": "O59C_-IgOIVB",
    "outputId": "720f08fc-5188-4f15-f42f-89b719a27186"
   },
   "outputs": [
    {
     "name": "stdout",
     "output_type": "stream",
     "text": [
      "Train on 60000 samples, validate on 10000 samples\n",
      "Epoch 1/100\n",
      "60000/60000 [==============================] - 2s 29us/sample - loss: 2.3331 - accuracy: 0.2457 - val_loss: 17.2076 - val_accuracy: 0.1776\n",
      "Epoch 2/100\n",
      "60000/60000 [==============================] - 1s 19us/sample - loss: 2.0994 - accuracy: 0.2946 - val_loss: 10.6929 - val_accuracy: 0.2214\n",
      "Epoch 3/100\n",
      "60000/60000 [==============================] - 1s 21us/sample - loss: 1.9184 - accuracy: 0.3475 - val_loss: 7.8895 - val_accuracy: 0.2612\n",
      "Epoch 4/100\n",
      "60000/60000 [==============================] - 1s 22us/sample - loss: 1.7767 - accuracy: 0.3969 - val_loss: 6.2910 - val_accuracy: 0.2956\n",
      "Epoch 5/100\n",
      "60000/60000 [==============================] - 1s 22us/sample - loss: 1.6644 - accuracy: 0.4405 - val_loss: 5.2575 - val_accuracy: 0.3286\n",
      "Epoch 6/100\n",
      "60000/60000 [==============================] - 1s 22us/sample - loss: 1.5742 - accuracy: 0.4773 - val_loss: 4.5413 - val_accuracy: 0.3557\n",
      "Epoch 7/100\n",
      "60000/60000 [==============================] - 1s 21us/sample - loss: 1.5007 - accuracy: 0.5052 - val_loss: 4.0224 - val_accuracy: 0.3842\n",
      "Epoch 8/100\n",
      "60000/60000 [==============================] - 1s 16us/sample - loss: 1.4399 - accuracy: 0.5278 - val_loss: 3.6331 - val_accuracy: 0.4078\n",
      "Epoch 9/100\n",
      "60000/60000 [==============================] - 1s 16us/sample - loss: 1.3888 - accuracy: 0.5468 - val_loss: 3.3320 - val_accuracy: 0.4244\n",
      "Epoch 10/100\n",
      "60000/60000 [==============================] - 1s 21us/sample - loss: 1.3453 - accuracy: 0.5627 - val_loss: 3.0926 - val_accuracy: 0.4415\n",
      "Epoch 11/100\n",
      "60000/60000 [==============================] - 1s 21us/sample - loss: 1.3077 - accuracy: 0.5749 - val_loss: 2.8978 - val_accuracy: 0.4575\n",
      "Epoch 12/100\n",
      "60000/60000 [==============================] - 1s 21us/sample - loss: 1.2748 - accuracy: 0.5868 - val_loss: 2.7358 - val_accuracy: 0.4731\n",
      "Epoch 13/100\n",
      "60000/60000 [==============================] - 1s 21us/sample - loss: 1.2458 - accuracy: 0.5965 - val_loss: 2.5985 - val_accuracy: 0.4863\n",
      "Epoch 14/100\n",
      "60000/60000 [==============================] - 1s 22us/sample - loss: 1.2199 - accuracy: 0.6058 - val_loss: 2.4800 - val_accuracy: 0.4982\n",
      "Epoch 15/100\n",
      "60000/60000 [==============================] - 1s 19us/sample - loss: 1.1965 - accuracy: 0.6126 - val_loss: 2.3762 - val_accuracy: 0.5075\n",
      "Epoch 16/100\n",
      "60000/60000 [==============================] - 1s 19us/sample - loss: 1.1753 - accuracy: 0.6185 - val_loss: 2.2842 - val_accuracy: 0.5169\n",
      "Epoch 17/100\n",
      "60000/60000 [==============================] - 1s 20us/sample - loss: 1.1559 - accuracy: 0.6244 - val_loss: 2.2017 - val_accuracy: 0.5252\n",
      "Epoch 18/100\n",
      "60000/60000 [==============================] - 1s 21us/sample - loss: 1.1381 - accuracy: 0.6300 - val_loss: 2.1270 - val_accuracy: 0.5323\n",
      "Epoch 19/100\n",
      "60000/60000 [==============================] - 1s 22us/sample - loss: 1.1216 - accuracy: 0.6344 - val_loss: 2.0590 - val_accuracy: 0.5400\n",
      "Epoch 20/100\n",
      "60000/60000 [==============================] - 1s 22us/sample - loss: 1.1063 - accuracy: 0.6391 - val_loss: 1.9966 - val_accuracy: 0.5450\n",
      "Epoch 21/100\n",
      "60000/60000 [==============================] - 1s 22us/sample - loss: 1.0921 - accuracy: 0.6434 - val_loss: 1.9390 - val_accuracy: 0.5503\n",
      "Epoch 22/100\n",
      "60000/60000 [==============================] - 1s 22us/sample - loss: 1.0787 - accuracy: 0.6463 - val_loss: 1.8857 - val_accuracy: 0.5556\n",
      "Epoch 23/100\n",
      "60000/60000 [==============================] - 1s 22us/sample - loss: 1.0662 - accuracy: 0.6500 - val_loss: 1.8361 - val_accuracy: 0.5616\n",
      "Epoch 24/100\n",
      "60000/60000 [==============================] - 1s 18us/sample - loss: 1.0544 - accuracy: 0.6535 - val_loss: 1.7898 - val_accuracy: 0.5672\n",
      "Epoch 25/100\n",
      "60000/60000 [==============================] - 1s 20us/sample - loss: 1.0432 - accuracy: 0.6562 - val_loss: 1.7465 - val_accuracy: 0.5728\n",
      "Epoch 26/100\n",
      "60000/60000 [==============================] - 1s 16us/sample - loss: 1.0327 - accuracy: 0.6594 - val_loss: 1.7059 - val_accuracy: 0.5778\n",
      "Epoch 27/100\n",
      "60000/60000 [==============================] - 1s 16us/sample - loss: 1.0226 - accuracy: 0.6622 - val_loss: 1.6676 - val_accuracy: 0.5808\n",
      "Epoch 28/100\n",
      "60000/60000 [==============================] - 1s 16us/sample - loss: 1.0131 - accuracy: 0.6645 - val_loss: 1.6316 - val_accuracy: 0.5853\n",
      "Epoch 29/100\n",
      "60000/60000 [==============================] - 1s 22us/sample - loss: 1.0040 - accuracy: 0.6670 - val_loss: 1.5976 - val_accuracy: 0.5898\n",
      "Epoch 30/100\n",
      "60000/60000 [==============================] - 1s 21us/sample - loss: 0.9953 - accuracy: 0.6694 - val_loss: 1.5654 - val_accuracy: 0.5933\n",
      "Epoch 31/100\n",
      "60000/60000 [==============================] - 1s 18us/sample - loss: 0.9870 - accuracy: 0.6720 - val_loss: 1.5349 - val_accuracy: 0.5978\n",
      "Epoch 32/100\n",
      "60000/60000 [==============================] - 1s 16us/sample - loss: 0.9790 - accuracy: 0.6741 - val_loss: 1.5059 - val_accuracy: 0.6014\n",
      "Epoch 33/100\n",
      "60000/60000 [==============================] - 1s 19us/sample - loss: 0.9714 - accuracy: 0.6761 - val_loss: 1.4784 - val_accuracy: 0.6052\n",
      "Epoch 34/100\n",
      "60000/60000 [==============================] - 1s 17us/sample - loss: 0.9641 - accuracy: 0.6783 - val_loss: 1.4523 - val_accuracy: 0.6084\n",
      "Epoch 35/100\n",
      "60000/60000 [==============================] - 1s 20us/sample - loss: 0.9570 - accuracy: 0.6803 - val_loss: 1.4273 - val_accuracy: 0.6115\n",
      "Epoch 36/100\n",
      "60000/60000 [==============================] - 1s 21us/sample - loss: 0.9502 - accuracy: 0.6820 - val_loss: 1.4035 - val_accuracy: 0.6146\n",
      "Epoch 37/100\n",
      "60000/60000 [==============================] - 1s 22us/sample - loss: 0.9437 - accuracy: 0.6837 - val_loss: 1.3808 - val_accuracy: 0.6180\n",
      "Epoch 38/100\n",
      "60000/60000 [==============================] - 1s 22us/sample - loss: 0.9373 - accuracy: 0.6853 - val_loss: 1.3591 - val_accuracy: 0.6205\n",
      "Epoch 39/100\n",
      "60000/60000 [==============================] - 1s 22us/sample - loss: 0.9312 - accuracy: 0.6874 - val_loss: 1.3384 - val_accuracy: 0.6231\n",
      "Epoch 40/100\n",
      "60000/60000 [==============================] - 1s 22us/sample - loss: 0.9253 - accuracy: 0.6889 - val_loss: 1.3185 - val_accuracy: 0.6250\n",
      "Epoch 41/100\n",
      "60000/60000 [==============================] - 1s 21us/sample - loss: 0.9196 - accuracy: 0.6903 - val_loss: 1.2994 - val_accuracy: 0.6271\n",
      "Epoch 42/100\n",
      "60000/60000 [==============================] - 1s 22us/sample - loss: 0.9141 - accuracy: 0.6921 - val_loss: 1.2812 - val_accuracy: 0.6299\n",
      "Epoch 43/100\n",
      "60000/60000 [==============================] - 1s 21us/sample - loss: 0.9087 - accuracy: 0.6937 - val_loss: 1.2636 - val_accuracy: 0.6331\n",
      "Epoch 44/100\n",
      "60000/60000 [==============================] - 1s 21us/sample - loss: 0.9035 - accuracy: 0.6954 - val_loss: 1.2468 - val_accuracy: 0.6359\n",
      "Epoch 45/100\n",
      "60000/60000 [==============================] - 1s 21us/sample - loss: 0.8985 - accuracy: 0.6968 - val_loss: 1.2306 - val_accuracy: 0.6382\n",
      "Epoch 46/100\n",
      "60000/60000 [==============================] - 1s 22us/sample - loss: 0.8936 - accuracy: 0.6984 - val_loss: 1.2150 - val_accuracy: 0.6406\n",
      "Epoch 47/100\n",
      "60000/60000 [==============================] - 1s 21us/sample - loss: 0.8888 - accuracy: 0.6998 - val_loss: 1.2000 - val_accuracy: 0.6424\n",
      "Epoch 48/100\n",
      "60000/60000 [==============================] - 1s 21us/sample - loss: 0.8842 - accuracy: 0.7012 - val_loss: 1.1855 - val_accuracy: 0.6443\n",
      "Epoch 49/100\n",
      "60000/60000 [==============================] - 1s 20us/sample - loss: 0.8797 - accuracy: 0.7024 - val_loss: 1.1716 - val_accuracy: 0.6468\n",
      "Epoch 50/100\n",
      "60000/60000 [==============================] - 1s 20us/sample - loss: 0.8753 - accuracy: 0.7035 - val_loss: 1.1581 - val_accuracy: 0.6486\n",
      "Epoch 51/100\n",
      "60000/60000 [==============================] - 1s 18us/sample - loss: 0.8710 - accuracy: 0.7046 - val_loss: 1.1451 - val_accuracy: 0.6504\n",
      "Epoch 52/100\n",
      "60000/60000 [==============================] - 1s 22us/sample - loss: 0.8669 - accuracy: 0.7057 - val_loss: 1.1326 - val_accuracy: 0.6526\n",
      "Epoch 53/100\n",
      "60000/60000 [==============================] - 1s 22us/sample - loss: 0.8628 - accuracy: 0.7069 - val_loss: 1.1205 - val_accuracy: 0.6554\n",
      "Epoch 54/100\n",
      "60000/60000 [==============================] - 1s 22us/sample - loss: 0.8588 - accuracy: 0.7083 - val_loss: 1.1088 - val_accuracy: 0.6569\n",
      "Epoch 55/100\n",
      "60000/60000 [==============================] - 1s 21us/sample - loss: 0.8550 - accuracy: 0.7095 - val_loss: 1.0975 - val_accuracy: 0.6589\n",
      "Epoch 56/100\n",
      "60000/60000 [==============================] - 1s 21us/sample - loss: 0.8512 - accuracy: 0.7106 - val_loss: 1.0865 - val_accuracy: 0.6601\n",
      "Epoch 57/100\n",
      "60000/60000 [==============================] - 1s 21us/sample - loss: 0.8475 - accuracy: 0.7119 - val_loss: 1.0759 - val_accuracy: 0.6616\n",
      "Epoch 58/100\n",
      "60000/60000 [==============================] - 1s 20us/sample - loss: 0.8439 - accuracy: 0.7129 - val_loss: 1.0657 - val_accuracy: 0.6627\n",
      "Epoch 59/100\n",
      "60000/60000 [==============================] - 1s 22us/sample - loss: 0.8404 - accuracy: 0.7139 - val_loss: 1.0557 - val_accuracy: 0.6641\n",
      "Epoch 60/100\n",
      "60000/60000 [==============================] - 1s 21us/sample - loss: 0.8370 - accuracy: 0.7150 - val_loss: 1.0461 - val_accuracy: 0.6658\n",
      "Epoch 61/100\n",
      "60000/60000 [==============================] - 1s 21us/sample - loss: 0.8336 - accuracy: 0.7159 - val_loss: 1.0368 - val_accuracy: 0.6669\n",
      "Epoch 62/100\n",
      "60000/60000 [==============================] - 1s 21us/sample - loss: 0.8304 - accuracy: 0.7167 - val_loss: 1.0277 - val_accuracy: 0.6690\n",
      "Epoch 63/100\n",
      "60000/60000 [==============================] - 1s 22us/sample - loss: 0.8271 - accuracy: 0.7177 - val_loss: 1.0189 - val_accuracy: 0.6701\n",
      "Epoch 64/100\n",
      "60000/60000 [==============================] - 1s 21us/sample - loss: 0.8240 - accuracy: 0.7187 - val_loss: 1.0104 - val_accuracy: 0.6717\n",
      "Epoch 65/100\n",
      "60000/60000 [==============================] - 1s 21us/sample - loss: 0.8209 - accuracy: 0.7198 - val_loss: 1.0021 - val_accuracy: 0.6728\n",
      "Epoch 66/100\n",
      "60000/60000 [==============================] - 1s 21us/sample - loss: 0.8179 - accuracy: 0.7208 - val_loss: 0.9941 - val_accuracy: 0.6743\n",
      "Epoch 67/100\n",
      "60000/60000 [==============================] - 1s 21us/sample - loss: 0.8149 - accuracy: 0.7218 - val_loss: 0.9863 - val_accuracy: 0.6759\n",
      "Epoch 68/100\n",
      "60000/60000 [==============================] - 1s 22us/sample - loss: 0.8120 - accuracy: 0.7229 - val_loss: 0.9787 - val_accuracy: 0.6775\n",
      "Epoch 69/100\n",
      "60000/60000 [==============================] - 1s 22us/sample - loss: 0.8092 - accuracy: 0.7236 - val_loss: 0.9713 - val_accuracy: 0.6785\n",
      "Epoch 70/100\n",
      "60000/60000 [==============================] - 1s 22us/sample - loss: 0.8064 - accuracy: 0.7246 - val_loss: 0.9642 - val_accuracy: 0.6803\n",
      "Epoch 71/100\n",
      "60000/60000 [==============================] - 1s 21us/sample - loss: 0.8037 - accuracy: 0.7255 - val_loss: 0.9572 - val_accuracy: 0.6818\n",
      "Epoch 72/100\n",
      "60000/60000 [==============================] - 1s 21us/sample - loss: 0.8010 - accuracy: 0.7267 - val_loss: 0.9504 - val_accuracy: 0.6834\n",
      "Epoch 73/100\n",
      "60000/60000 [==============================] - 1s 20us/sample - loss: 0.7984 - accuracy: 0.7276 - val_loss: 0.9438 - val_accuracy: 0.6845\n",
      "Epoch 74/100\n",
      "60000/60000 [==============================] - 1s 18us/sample - loss: 0.7958 - accuracy: 0.7285 - val_loss: 0.9374 - val_accuracy: 0.6860\n",
      "Epoch 75/100\n",
      "60000/60000 [==============================] - 1s 21us/sample - loss: 0.7932 - accuracy: 0.7292 - val_loss: 0.9311 - val_accuracy: 0.6877\n",
      "Epoch 76/100\n",
      "60000/60000 [==============================] - 1s 22us/sample - loss: 0.7908 - accuracy: 0.7301 - val_loss: 0.9251 - val_accuracy: 0.6896\n",
      "Epoch 77/100\n",
      "60000/60000 [==============================] - 1s 22us/sample - loss: 0.7883 - accuracy: 0.7309 - val_loss: 0.9191 - val_accuracy: 0.6918\n",
      "Epoch 78/100\n",
      "60000/60000 [==============================] - 1s 21us/sample - loss: 0.7859 - accuracy: 0.7317 - val_loss: 0.9134 - val_accuracy: 0.6934\n",
      "Epoch 79/100\n",
      "60000/60000 [==============================] - 1s 22us/sample - loss: 0.7835 - accuracy: 0.7326 - val_loss: 0.9077 - val_accuracy: 0.6946\n",
      "Epoch 80/100\n",
      "60000/60000 [==============================] - 1s 21us/sample - loss: 0.7812 - accuracy: 0.7333 - val_loss: 0.9023 - val_accuracy: 0.6966\n",
      "Epoch 81/100\n",
      "60000/60000 [==============================] - 1s 16us/sample - loss: 0.7789 - accuracy: 0.7340 - val_loss: 0.8969 - val_accuracy: 0.6970\n",
      "Epoch 82/100\n",
      "60000/60000 [==============================] - 1s 16us/sample - loss: 0.7767 - accuracy: 0.7345 - val_loss: 0.8917 - val_accuracy: 0.6988\n",
      "Epoch 83/100\n",
      "60000/60000 [==============================] - 1s 23us/sample - loss: 0.7745 - accuracy: 0.7352 - val_loss: 0.8866 - val_accuracy: 0.6999\n",
      "Epoch 84/100\n",
      "60000/60000 [==============================] - 1s 22us/sample - loss: 0.7723 - accuracy: 0.7361 - val_loss: 0.8817 - val_accuracy: 0.7014\n",
      "Epoch 85/100\n",
      "60000/60000 [==============================] - 1s 21us/sample - loss: 0.7702 - accuracy: 0.7365 - val_loss: 0.8769 - val_accuracy: 0.7029\n",
      "Epoch 86/100\n",
      "60000/60000 [==============================] - 1s 22us/sample - loss: 0.7681 - accuracy: 0.7372 - val_loss: 0.8721 - val_accuracy: 0.7039\n",
      "Epoch 87/100\n",
      "60000/60000 [==============================] - 1s 21us/sample - loss: 0.7660 - accuracy: 0.7379 - val_loss: 0.8676 - val_accuracy: 0.7046\n",
      "Epoch 88/100\n",
      "60000/60000 [==============================] - 1s 21us/sample - loss: 0.7640 - accuracy: 0.7388 - val_loss: 0.8631 - val_accuracy: 0.7064\n",
      "Epoch 89/100\n",
      "60000/60000 [==============================] - 1s 21us/sample - loss: 0.7620 - accuracy: 0.7395 - val_loss: 0.8587 - val_accuracy: 0.7071\n",
      "Epoch 90/100\n",
      "60000/60000 [==============================] - 1s 21us/sample - loss: 0.7600 - accuracy: 0.7401 - val_loss: 0.8544 - val_accuracy: 0.7084\n",
      "Epoch 91/100\n",
      "60000/60000 [==============================] - 1s 21us/sample - loss: 0.7581 - accuracy: 0.7406 - val_loss: 0.8502 - val_accuracy: 0.7099\n",
      "Epoch 92/100\n",
      "60000/60000 [==============================] - 1s 21us/sample - loss: 0.7561 - accuracy: 0.7414 - val_loss: 0.8462 - val_accuracy: 0.7111\n",
      "Epoch 93/100\n",
      "60000/60000 [==============================] - 1s 22us/sample - loss: 0.7543 - accuracy: 0.7420 - val_loss: 0.8422 - val_accuracy: 0.7123\n",
      "Epoch 94/100\n",
      "60000/60000 [==============================] - 1s 22us/sample - loss: 0.7524 - accuracy: 0.7426 - val_loss: 0.8383 - val_accuracy: 0.7130\n",
      "Epoch 95/100\n",
      "60000/60000 [==============================] - 1s 22us/sample - loss: 0.7506 - accuracy: 0.7430 - val_loss: 0.8345 - val_accuracy: 0.7136\n",
      "Epoch 96/100\n",
      "60000/60000 [==============================] - 1s 25us/sample - loss: 0.7488 - accuracy: 0.7437 - val_loss: 0.8308 - val_accuracy: 0.7145\n",
      "Epoch 97/100\n",
      "60000/60000 [==============================] - 1s 21us/sample - loss: 0.7470 - accuracy: 0.7446 - val_loss: 0.8271 - val_accuracy: 0.7151\n",
      "Epoch 98/100\n",
      "60000/60000 [==============================] - 1s 21us/sample - loss: 0.7452 - accuracy: 0.7452 - val_loss: 0.8236 - val_accuracy: 0.7165\n",
      "Epoch 99/100\n",
      "60000/60000 [==============================] - 1s 21us/sample - loss: 0.7435 - accuracy: 0.7459 - val_loss: 0.8201 - val_accuracy: 0.7180\n",
      "Epoch 100/100\n",
      "60000/60000 [==============================] - 1s 21us/sample - loss: 0.7418 - accuracy: 0.7464 - val_loss: 0.8167 - val_accuracy: 0.7188\n"
     ]
    },
    {
     "data": {
      "text/plain": [
       "<tensorflow.python.keras.callbacks.History at 0x7f3b9c790750>"
      ]
     },
     "execution_count": 31,
     "metadata": {
      "tags": []
     },
     "output_type": "execute_result"
    }
   ],
   "source": [
    "model.fit(trainX, train_labels, \n",
    "          validation_data=(testX, test_labels), \n",
    "          epochs=100,\n",
    "          batch_size=trainX.shape[0])"
   ]
  },
  {
   "cell_type": "markdown",
   "metadata": {
    "colab_type": "text",
    "id": "JdzDtGwDOIVF"
   },
   "source": [
    "### In the above Neural Network model add Batch Normalization layer after the input layer and repeat the steps."
   ]
  },
  {
   "cell_type": "code",
   "execution_count": 32,
   "metadata": {
    "colab": {
     "base_uri": "https://localhost:8080/",
     "height": 260
    },
    "colab_type": "code",
    "executionInfo": {
     "elapsed": 2002,
     "status": "ok",
     "timestamp": 1572089915530,
     "user": {
      "displayName": "Ritul Singh",
      "photoUrl": "",
      "userId": "05150505717387322309"
     },
     "user_tz": -330
    },
    "id": "kndfpdidOIVI",
    "outputId": "c940f6c8-d56a-4450-c4c0-cb89df15fba4"
   },
   "outputs": [
    {
     "name": "stdout",
     "output_type": "stream",
     "text": [
      "Model: \"sequential_1\"\n",
      "_________________________________________________________________\n",
      "Layer (type)                 Output Shape              Param #   \n",
      "=================================================================\n",
      "reshape_1 (Reshape)          (None, 784)               0         \n",
      "_________________________________________________________________\n",
      "batch_normalization_1 (Batch (None, 784)               3136      \n",
      "_________________________________________________________________\n",
      "dense_1 (Dense)              (None, 10)                7850      \n",
      "=================================================================\n",
      "Total params: 10,986\n",
      "Trainable params: 9,418\n",
      "Non-trainable params: 1,568\n",
      "_________________________________________________________________\n"
     ]
    }
   ],
   "source": [
    "model.summary()"
   ]
  },
  {
   "cell_type": "code",
   "execution_count": 0,
   "metadata": {
    "colab": {},
    "colab_type": "code",
    "id": "4QZMmfiL7Y3v"
   },
   "outputs": [],
   "source": [
    "from keras.utils import normalize, to_categorical\n",
    "X_train = normalize(trainX, axis=1)\n",
    "X_test = normalize(testX, axis=1)"
   ]
  },
  {
   "cell_type": "code",
   "execution_count": 0,
   "metadata": {
    "colab": {},
    "colab_type": "code",
    "id": "tS6O2Nek0X1J"
   },
   "outputs": [],
   "source": [
    "#Initialize Sequential model\n",
    "model = tf.keras.models.Sequential()\n",
    "\n",
    "#Reshape data from 2D to 1D -> 28x28 to 784\n",
    "model.add(tf.keras.layers.Reshape((784,),input_shape=(28,28,)))\n",
    "\n",
    "#Normalize the data\n",
    "#BatchNormalization -- used to feed normalizing to model\n",
    "model.add(tf.keras.layers.BatchNormalization())\n",
    "\n",
    "#Add Dense Layer which provides 10 Outputs after applying softmax\n",
    "#Creates 10 equations\n",
    "model.add(tf.keras.layers.Dense(10, activation='softmax'))\n",
    "\n",
    "#Compile the model\n",
    "model.compile(optimizer='sgd', loss='categorical_crossentropy', \n",
    "              metrics=['accuracy'])\n",
    "#If Sigmoid, give Binary_crossentropy"
   ]
  },
  {
   "cell_type": "markdown",
   "metadata": {
    "colab_type": "text",
    "id": "mwk3T5LJOIVN"
   },
   "source": [
    "### Execute the model"
   ]
  },
  {
   "cell_type": "code",
   "execution_count": 35,
   "metadata": {
    "colab": {
     "base_uri": "https://localhost:8080/",
     "height": 1000
    },
    "colab_type": "code",
    "executionInfo": {
     "elapsed": 151539,
     "status": "ok",
     "timestamp": 1572090085681,
     "user": {
      "displayName": "Ritul Singh",
      "photoUrl": "",
      "userId": "05150505717387322309"
     },
     "user_tz": -330
    },
    "id": "JNLR8tcBOIVP",
    "outputId": "9bfa280f-6f0b-4070-ce45-af634a8cd0eb"
   },
   "outputs": [
    {
     "name": "stdout",
     "output_type": "stream",
     "text": [
      "Train on 60000 samples, validate on 10000 samples\n",
      "Epoch 1/100\n",
      "60000/60000 [==============================] - 4s 65us/sample - loss: 2.6666 - accuracy: 0.1207 - val_loss: 2.2795 - val_accuracy: 0.2060\n",
      "Epoch 2/100\n",
      "60000/60000 [==============================] - 2s 28us/sample - loss: 2.4655 - accuracy: 0.1569 - val_loss: 2.2545 - val_accuracy: 0.2153\n",
      "Epoch 3/100\n",
      "60000/60000 [==============================] - 2s 25us/sample - loss: 2.2944 - accuracy: 0.1989 - val_loss: 2.2318 - val_accuracy: 0.2274\n",
      "Epoch 4/100\n",
      "60000/60000 [==============================] - 1s 24us/sample - loss: 2.1484 - accuracy: 0.2429 - val_loss: 2.2110 - val_accuracy: 0.2429\n",
      "Epoch 5/100\n",
      "60000/60000 [==============================] - 1s 24us/sample - loss: 2.0233 - accuracy: 0.2889 - val_loss: 2.1920 - val_accuracy: 0.2571\n",
      "Epoch 6/100\n",
      "60000/60000 [==============================] - 1s 24us/sample - loss: 1.9153 - accuracy: 0.3305 - val_loss: 2.1746 - val_accuracy: 0.2699\n",
      "Epoch 7/100\n",
      "60000/60000 [==============================] - 1s 24us/sample - loss: 1.8216 - accuracy: 0.3668 - val_loss: 2.1586 - val_accuracy: 0.2815\n",
      "Epoch 8/100\n",
      "60000/60000 [==============================] - 1s 25us/sample - loss: 1.7397 - accuracy: 0.3988 - val_loss: 2.1438 - val_accuracy: 0.2913\n",
      "Epoch 9/100\n",
      "60000/60000 [==============================] - 1s 24us/sample - loss: 1.6675 - accuracy: 0.4250 - val_loss: 2.1300 - val_accuracy: 0.3017\n",
      "Epoch 10/100\n",
      "60000/60000 [==============================] - 1s 25us/sample - loss: 1.6034 - accuracy: 0.4465 - val_loss: 2.1171 - val_accuracy: 0.3119\n",
      "Epoch 11/100\n",
      "60000/60000 [==============================] - 1s 24us/sample - loss: 1.5462 - accuracy: 0.4658 - val_loss: 2.1051 - val_accuracy: 0.3229\n",
      "Epoch 12/100\n",
      "60000/60000 [==============================] - 1s 25us/sample - loss: 1.4948 - accuracy: 0.4835 - val_loss: 2.0937 - val_accuracy: 0.3330\n",
      "Epoch 13/100\n",
      "60000/60000 [==============================] - 1s 25us/sample - loss: 1.4483 - accuracy: 0.4991 - val_loss: 2.0829 - val_accuracy: 0.3421\n",
      "Epoch 14/100\n",
      "60000/60000 [==============================] - 1s 24us/sample - loss: 1.4061 - accuracy: 0.5137 - val_loss: 2.0727 - val_accuracy: 0.3506\n",
      "Epoch 15/100\n",
      "60000/60000 [==============================] - 1s 25us/sample - loss: 1.3677 - accuracy: 0.5256 - val_loss: 2.0630 - val_accuracy: 0.3585\n",
      "Epoch 16/100\n",
      "60000/60000 [==============================] - 1s 24us/sample - loss: 1.3324 - accuracy: 0.5379 - val_loss: 2.0537 - val_accuracy: 0.3659\n",
      "Epoch 17/100\n",
      "60000/60000 [==============================] - 1s 24us/sample - loss: 1.3000 - accuracy: 0.5488 - val_loss: 2.0448 - val_accuracy: 0.3761\n",
      "Epoch 18/100\n",
      "60000/60000 [==============================] - 1s 24us/sample - loss: 1.2702 - accuracy: 0.5589 - val_loss: 2.0362 - val_accuracy: 0.3850\n",
      "Epoch 19/100\n",
      "60000/60000 [==============================] - 1s 24us/sample - loss: 1.2425 - accuracy: 0.5689 - val_loss: 2.0279 - val_accuracy: 0.3951\n",
      "Epoch 20/100\n",
      "60000/60000 [==============================] - 1s 24us/sample - loss: 1.2169 - accuracy: 0.5789 - val_loss: 2.0199 - val_accuracy: 0.4046\n",
      "Epoch 21/100\n",
      "60000/60000 [==============================] - 1s 24us/sample - loss: 1.1931 - accuracy: 0.5876 - val_loss: 2.0121 - val_accuracy: 0.4127\n",
      "Epoch 22/100\n",
      "60000/60000 [==============================] - 2s 25us/sample - loss: 1.1709 - accuracy: 0.5956 - val_loss: 2.0046 - val_accuracy: 0.4223\n",
      "Epoch 23/100\n",
      "60000/60000 [==============================] - 2s 25us/sample - loss: 1.1502 - accuracy: 0.6028 - val_loss: 1.9973 - val_accuracy: 0.4321\n",
      "Epoch 24/100\n",
      "60000/60000 [==============================] - 1s 24us/sample - loss: 1.1308 - accuracy: 0.6095 - val_loss: 1.9902 - val_accuracy: 0.4409\n",
      "Epoch 25/100\n",
      "60000/60000 [==============================] - 1s 24us/sample - loss: 1.1126 - accuracy: 0.6165 - val_loss: 1.9833 - val_accuracy: 0.4485\n",
      "Epoch 26/100\n",
      "60000/60000 [==============================] - 1s 24us/sample - loss: 1.0955 - accuracy: 0.6227 - val_loss: 1.9765 - val_accuracy: 0.4563\n",
      "Epoch 27/100\n",
      "60000/60000 [==============================] - 1s 24us/sample - loss: 1.0794 - accuracy: 0.6290 - val_loss: 1.9699 - val_accuracy: 0.4642\n",
      "Epoch 28/100\n",
      "60000/60000 [==============================] - 1s 25us/sample - loss: 1.0642 - accuracy: 0.6346 - val_loss: 1.9634 - val_accuracy: 0.4723\n",
      "Epoch 29/100\n",
      "60000/60000 [==============================] - 2s 25us/sample - loss: 1.0499 - accuracy: 0.6399 - val_loss: 1.9570 - val_accuracy: 0.4784\n",
      "Epoch 30/100\n",
      "60000/60000 [==============================] - 2s 25us/sample - loss: 1.0363 - accuracy: 0.6446 - val_loss: 1.9508 - val_accuracy: 0.4851\n",
      "Epoch 31/100\n",
      "60000/60000 [==============================] - 2s 26us/sample - loss: 1.0235 - accuracy: 0.6494 - val_loss: 1.9446 - val_accuracy: 0.4917\n",
      "Epoch 32/100\n",
      "60000/60000 [==============================] - 1s 25us/sample - loss: 1.0113 - accuracy: 0.6533 - val_loss: 1.9386 - val_accuracy: 0.4989\n",
      "Epoch 33/100\n",
      "60000/60000 [==============================] - 2s 26us/sample - loss: 0.9997 - accuracy: 0.6577 - val_loss: 1.9326 - val_accuracy: 0.5051\n",
      "Epoch 34/100\n",
      "60000/60000 [==============================] - 2s 26us/sample - loss: 0.9887 - accuracy: 0.6614 - val_loss: 1.9268 - val_accuracy: 0.5119\n",
      "Epoch 35/100\n",
      "60000/60000 [==============================] - 2s 25us/sample - loss: 0.9782 - accuracy: 0.6653 - val_loss: 1.9210 - val_accuracy: 0.5171\n",
      "Epoch 36/100\n",
      "60000/60000 [==============================] - 1s 24us/sample - loss: 0.9682 - accuracy: 0.6695 - val_loss: 1.9153 - val_accuracy: 0.5229\n",
      "Epoch 37/100\n",
      "60000/60000 [==============================] - 1s 23us/sample - loss: 0.9587 - accuracy: 0.6731 - val_loss: 1.9097 - val_accuracy: 0.5300\n",
      "Epoch 38/100\n",
      "60000/60000 [==============================] - 1s 22us/sample - loss: 0.9496 - accuracy: 0.6763 - val_loss: 1.9041 - val_accuracy: 0.5349\n",
      "Epoch 39/100\n",
      "60000/60000 [==============================] - 1s 24us/sample - loss: 0.9408 - accuracy: 0.6791 - val_loss: 1.8986 - val_accuracy: 0.5396\n",
      "Epoch 40/100\n",
      "60000/60000 [==============================] - 1s 24us/sample - loss: 0.9325 - accuracy: 0.6822 - val_loss: 1.8932 - val_accuracy: 0.5449\n",
      "Epoch 41/100\n",
      "60000/60000 [==============================] - 2s 30us/sample - loss: 0.9244 - accuracy: 0.6854 - val_loss: 1.8878 - val_accuracy: 0.5497\n",
      "Epoch 42/100\n",
      "60000/60000 [==============================] - 2s 26us/sample - loss: 0.9167 - accuracy: 0.6880 - val_loss: 1.8824 - val_accuracy: 0.5535\n",
      "Epoch 43/100\n",
      "60000/60000 [==============================] - 1s 24us/sample - loss: 0.9093 - accuracy: 0.6907 - val_loss: 1.8771 - val_accuracy: 0.5577\n",
      "Epoch 44/100\n",
      "60000/60000 [==============================] - 1s 25us/sample - loss: 0.9022 - accuracy: 0.6930 - val_loss: 1.8719 - val_accuracy: 0.5626\n",
      "Epoch 45/100\n",
      "60000/60000 [==============================] - 1s 19us/sample - loss: 0.8954 - accuracy: 0.6952 - val_loss: 1.8667 - val_accuracy: 0.5672\n",
      "Epoch 46/100\n",
      "60000/60000 [==============================] - 1s 20us/sample - loss: 0.8888 - accuracy: 0.6975 - val_loss: 1.8615 - val_accuracy: 0.5701\n",
      "Epoch 47/100\n",
      "60000/60000 [==============================] - 1s 24us/sample - loss: 0.8824 - accuracy: 0.6998 - val_loss: 1.8564 - val_accuracy: 0.5741\n",
      "Epoch 48/100\n",
      "60000/60000 [==============================] - 2s 25us/sample - loss: 0.8763 - accuracy: 0.7015 - val_loss: 1.8513 - val_accuracy: 0.5781\n",
      "Epoch 49/100\n",
      "60000/60000 [==============================] - 2s 25us/sample - loss: 0.8704 - accuracy: 0.7037 - val_loss: 1.8462 - val_accuracy: 0.5821\n",
      "Epoch 50/100\n",
      "60000/60000 [==============================] - 1s 25us/sample - loss: 0.8647 - accuracy: 0.7056 - val_loss: 1.8412 - val_accuracy: 0.5859\n",
      "Epoch 51/100\n",
      "60000/60000 [==============================] - 1s 22us/sample - loss: 0.8592 - accuracy: 0.7074 - val_loss: 1.8362 - val_accuracy: 0.5895\n",
      "Epoch 52/100\n",
      "60000/60000 [==============================] - 1s 22us/sample - loss: 0.8538 - accuracy: 0.7094 - val_loss: 1.8312 - val_accuracy: 0.5923\n",
      "Epoch 53/100\n",
      "60000/60000 [==============================] - 2s 26us/sample - loss: 0.8486 - accuracy: 0.7109 - val_loss: 1.8263 - val_accuracy: 0.5951\n",
      "Epoch 54/100\n",
      "60000/60000 [==============================] - 2s 26us/sample - loss: 0.8436 - accuracy: 0.7126 - val_loss: 1.8213 - val_accuracy: 0.5988\n",
      "Epoch 55/100\n",
      "60000/60000 [==============================] - 2s 27us/sample - loss: 0.8388 - accuracy: 0.7144 - val_loss: 1.8164 - val_accuracy: 0.6024\n",
      "Epoch 56/100\n",
      "60000/60000 [==============================] - 1s 25us/sample - loss: 0.8341 - accuracy: 0.7158 - val_loss: 1.8116 - val_accuracy: 0.6048\n",
      "Epoch 57/100\n",
      "60000/60000 [==============================] - 1s 24us/sample - loss: 0.8295 - accuracy: 0.7172 - val_loss: 1.8067 - val_accuracy: 0.6065\n",
      "Epoch 58/100\n",
      "60000/60000 [==============================] - 1s 20us/sample - loss: 0.8251 - accuracy: 0.7187 - val_loss: 1.8019 - val_accuracy: 0.6092\n",
      "Epoch 59/100\n",
      "60000/60000 [==============================] - 1s 24us/sample - loss: 0.8208 - accuracy: 0.7201 - val_loss: 1.7970 - val_accuracy: 0.6116\n",
      "Epoch 60/100\n",
      "60000/60000 [==============================] - 2s 26us/sample - loss: 0.8166 - accuracy: 0.7218 - val_loss: 1.7922 - val_accuracy: 0.6144\n",
      "Epoch 61/100\n",
      "60000/60000 [==============================] - 1s 24us/sample - loss: 0.8125 - accuracy: 0.7230 - val_loss: 1.7874 - val_accuracy: 0.6166\n",
      "Epoch 62/100\n",
      "60000/60000 [==============================] - 2s 27us/sample - loss: 0.8086 - accuracy: 0.7241 - val_loss: 1.7827 - val_accuracy: 0.6204\n",
      "Epoch 63/100\n",
      "60000/60000 [==============================] - 2s 26us/sample - loss: 0.8047 - accuracy: 0.7254 - val_loss: 1.7779 - val_accuracy: 0.6220\n",
      "Epoch 64/100\n",
      "60000/60000 [==============================] - 2s 25us/sample - loss: 0.8010 - accuracy: 0.7268 - val_loss: 1.7732 - val_accuracy: 0.6238\n",
      "Epoch 65/100\n",
      "60000/60000 [==============================] - 2s 26us/sample - loss: 0.7973 - accuracy: 0.7279 - val_loss: 1.7684 - val_accuracy: 0.6257\n",
      "Epoch 66/100\n",
      "60000/60000 [==============================] - 1s 24us/sample - loss: 0.7938 - accuracy: 0.7289 - val_loss: 1.7637 - val_accuracy: 0.6282\n",
      "Epoch 67/100\n",
      "60000/60000 [==============================] - 1s 24us/sample - loss: 0.7903 - accuracy: 0.7304 - val_loss: 1.7590 - val_accuracy: 0.6292\n",
      "Epoch 68/100\n",
      "60000/60000 [==============================] - 1s 24us/sample - loss: 0.7870 - accuracy: 0.7315 - val_loss: 1.7543 - val_accuracy: 0.6314\n",
      "Epoch 69/100\n",
      "60000/60000 [==============================] - 2s 26us/sample - loss: 0.7837 - accuracy: 0.7326 - val_loss: 1.7496 - val_accuracy: 0.6336\n",
      "Epoch 70/100\n",
      "60000/60000 [==============================] - 1s 25us/sample - loss: 0.7804 - accuracy: 0.7333 - val_loss: 1.7450 - val_accuracy: 0.6356\n",
      "Epoch 71/100\n",
      "60000/60000 [==============================] - 1s 23us/sample - loss: 0.7773 - accuracy: 0.7341 - val_loss: 1.7403 - val_accuracy: 0.6375\n",
      "Epoch 72/100\n",
      "60000/60000 [==============================] - 1s 19us/sample - loss: 0.7742 - accuracy: 0.7354 - val_loss: 1.7356 - val_accuracy: 0.6398\n",
      "Epoch 73/100\n",
      "60000/60000 [==============================] - 1s 21us/sample - loss: 0.7713 - accuracy: 0.7364 - val_loss: 1.7310 - val_accuracy: 0.6418\n",
      "Epoch 74/100\n",
      "60000/60000 [==============================] - 1s 24us/sample - loss: 0.7683 - accuracy: 0.7374 - val_loss: 1.7263 - val_accuracy: 0.6439\n",
      "Epoch 75/100\n",
      "60000/60000 [==============================] - 1s 24us/sample - loss: 0.7655 - accuracy: 0.7385 - val_loss: 1.7217 - val_accuracy: 0.6458\n",
      "Epoch 76/100\n",
      "60000/60000 [==============================] - 1s 24us/sample - loss: 0.7627 - accuracy: 0.7393 - val_loss: 1.7171 - val_accuracy: 0.6480\n",
      "Epoch 77/100\n",
      "60000/60000 [==============================] - 2s 25us/sample - loss: 0.7599 - accuracy: 0.7400 - val_loss: 1.7125 - val_accuracy: 0.6484\n",
      "Epoch 78/100\n",
      "60000/60000 [==============================] - 1s 25us/sample - loss: 0.7573 - accuracy: 0.7407 - val_loss: 1.7079 - val_accuracy: 0.6502\n",
      "Epoch 79/100\n",
      "60000/60000 [==============================] - 1s 25us/sample - loss: 0.7547 - accuracy: 0.7417 - val_loss: 1.7032 - val_accuracy: 0.6513\n",
      "Epoch 80/100\n",
      "60000/60000 [==============================] - 1s 25us/sample - loss: 0.7521 - accuracy: 0.7426 - val_loss: 1.6986 - val_accuracy: 0.6528\n",
      "Epoch 81/100\n",
      "60000/60000 [==============================] - 1s 25us/sample - loss: 0.7496 - accuracy: 0.7434 - val_loss: 1.6941 - val_accuracy: 0.6535\n",
      "Epoch 82/100\n",
      "60000/60000 [==============================] - 1s 24us/sample - loss: 0.7471 - accuracy: 0.7441 - val_loss: 1.6895 - val_accuracy: 0.6549\n",
      "Epoch 83/100\n",
      "60000/60000 [==============================] - 1s 24us/sample - loss: 0.7447 - accuracy: 0.7448 - val_loss: 1.6849 - val_accuracy: 0.6571\n",
      "Epoch 84/100\n",
      "60000/60000 [==============================] - 2s 27us/sample - loss: 0.7423 - accuracy: 0.7458 - val_loss: 1.6803 - val_accuracy: 0.6584\n",
      "Epoch 85/100\n",
      "60000/60000 [==============================] - 1s 24us/sample - loss: 0.7400 - accuracy: 0.7465 - val_loss: 1.6757 - val_accuracy: 0.6601\n",
      "Epoch 86/100\n",
      "60000/60000 [==============================] - 2s 25us/sample - loss: 0.7378 - accuracy: 0.7471 - val_loss: 1.6711 - val_accuracy: 0.6615\n",
      "Epoch 87/100\n",
      "60000/60000 [==============================] - 1s 24us/sample - loss: 0.7355 - accuracy: 0.7478 - val_loss: 1.6666 - val_accuracy: 0.6624\n",
      "Epoch 88/100\n",
      "60000/60000 [==============================] - 2s 25us/sample - loss: 0.7334 - accuracy: 0.7486 - val_loss: 1.6620 - val_accuracy: 0.6631\n",
      "Epoch 89/100\n",
      "60000/60000 [==============================] - 2s 25us/sample - loss: 0.7312 - accuracy: 0.7494 - val_loss: 1.6574 - val_accuracy: 0.6640\n",
      "Epoch 90/100\n",
      "60000/60000 [==============================] - 1s 25us/sample - loss: 0.7291 - accuracy: 0.7499 - val_loss: 1.6529 - val_accuracy: 0.6651\n",
      "Epoch 91/100\n",
      "60000/60000 [==============================] - 2s 25us/sample - loss: 0.7270 - accuracy: 0.7507 - val_loss: 1.6483 - val_accuracy: 0.6674\n",
      "Epoch 92/100\n",
      "60000/60000 [==============================] - 2s 25us/sample - loss: 0.7250 - accuracy: 0.7513 - val_loss: 1.6438 - val_accuracy: 0.6680\n",
      "Epoch 93/100\n",
      "60000/60000 [==============================] - 1s 25us/sample - loss: 0.7230 - accuracy: 0.7521 - val_loss: 1.6392 - val_accuracy: 0.6689\n",
      "Epoch 94/100\n",
      "60000/60000 [==============================] - 2s 25us/sample - loss: 0.7211 - accuracy: 0.7526 - val_loss: 1.6347 - val_accuracy: 0.6698\n",
      "Epoch 95/100\n",
      "60000/60000 [==============================] - 1s 24us/sample - loss: 0.7191 - accuracy: 0.7531 - val_loss: 1.6301 - val_accuracy: 0.6718\n",
      "Epoch 96/100\n",
      "60000/60000 [==============================] - 1s 25us/sample - loss: 0.7172 - accuracy: 0.7537 - val_loss: 1.6256 - val_accuracy: 0.6727\n",
      "Epoch 97/100\n",
      "60000/60000 [==============================] - 1s 25us/sample - loss: 0.7154 - accuracy: 0.7545 - val_loss: 1.6211 - val_accuracy: 0.6748\n",
      "Epoch 98/100\n",
      "60000/60000 [==============================] - 2s 26us/sample - loss: 0.7136 - accuracy: 0.7550 - val_loss: 1.6165 - val_accuracy: 0.6755\n",
      "Epoch 99/100\n",
      "60000/60000 [==============================] - 1s 25us/sample - loss: 0.7118 - accuracy: 0.7555 - val_loss: 1.6120 - val_accuracy: 0.6766\n",
      "Epoch 100/100\n",
      "60000/60000 [==============================] - 1s 24us/sample - loss: 0.7100 - accuracy: 0.7562 - val_loss: 1.6075 - val_accuracy: 0.6780\n"
     ]
    },
    {
     "data": {
      "text/plain": [
       "<tensorflow.python.keras.callbacks.History at 0x7f3b9b120e50>"
      ]
     },
     "execution_count": 35,
     "metadata": {
      "tags": []
     },
     "output_type": "execute_result"
    }
   ],
   "source": [
    "model.fit(X_train, train_labels, \n",
    "          validation_data=(X_test, test_labels), \n",
    "          epochs=100,\n",
    "          batch_size=trainX.shape[0])"
   ]
  },
  {
   "cell_type": "markdown",
   "metadata": {
    "colab_type": "text",
    "id": "Py-KwkmjOIVU"
   },
   "source": [
    "### Customize the learning rate to 0.001 in sgd optimizer and run the model"
   ]
  },
  {
   "cell_type": "code",
   "execution_count": 0,
   "metadata": {
    "colab": {},
    "colab_type": "code",
    "id": "yLXUE9jWOIVV"
   },
   "outputs": [],
   "source": [
    "from keras import optimizers\n",
    "sgd = optimizers.SGD(lr=0.001)\n",
    "model.compile(optimizer='sgd', loss='categorical_crossentropy', \n",
    "              metrics=['accuracy'])"
   ]
  },
  {
   "cell_type": "code",
   "execution_count": 37,
   "metadata": {
    "colab": {
     "base_uri": "https://localhost:8080/",
     "height": 1000
    },
    "colab_type": "code",
    "executionInfo": {
     "elapsed": 149659,
     "status": "ok",
     "timestamp": 1572090326965,
     "user": {
      "displayName": "Ritul Singh",
      "photoUrl": "",
      "userId": "05150505717387322309"
     },
     "user_tz": -330
    },
    "id": "pJUqA5T4OIVc",
    "outputId": "2e15d9bb-4a71-4f81-f385-d2813e51d6e8"
   },
   "outputs": [
    {
     "name": "stdout",
     "output_type": "stream",
     "text": [
      "Train on 60000 samples, validate on 10000 samples\n",
      "Epoch 1/100\n",
      "60000/60000 [==============================] - 2s 36us/sample - loss: 0.7083 - accuracy: 0.7566 - val_loss: 1.6029 - val_accuracy: 0.6787\n",
      "Epoch 2/100\n",
      "60000/60000 [==============================] - 1s 25us/sample - loss: 0.7066 - accuracy: 0.7569 - val_loss: 1.5984 - val_accuracy: 0.6800\n",
      "Epoch 3/100\n",
      "60000/60000 [==============================] - 2s 25us/sample - loss: 0.7049 - accuracy: 0.7574 - val_loss: 1.5939 - val_accuracy: 0.6812\n",
      "Epoch 4/100\n",
      "60000/60000 [==============================] - 1s 25us/sample - loss: 0.7032 - accuracy: 0.7579 - val_loss: 1.5894 - val_accuracy: 0.6826\n",
      "Epoch 5/100\n",
      "60000/60000 [==============================] - 1s 24us/sample - loss: 0.7016 - accuracy: 0.7586 - val_loss: 1.5848 - val_accuracy: 0.6839\n",
      "Epoch 6/100\n",
      "60000/60000 [==============================] - 1s 25us/sample - loss: 0.7000 - accuracy: 0.7591 - val_loss: 1.5803 - val_accuracy: 0.6850\n",
      "Epoch 7/100\n",
      "60000/60000 [==============================] - 2s 26us/sample - loss: 0.6984 - accuracy: 0.7596 - val_loss: 1.5758 - val_accuracy: 0.6862\n",
      "Epoch 8/100\n",
      "60000/60000 [==============================] - 1s 24us/sample - loss: 0.6968 - accuracy: 0.7600 - val_loss: 1.5713 - val_accuracy: 0.6879\n",
      "Epoch 9/100\n",
      "60000/60000 [==============================] - 1s 25us/sample - loss: 0.6953 - accuracy: 0.7606 - val_loss: 1.5668 - val_accuracy: 0.6886\n",
      "Epoch 10/100\n",
      "60000/60000 [==============================] - 2s 25us/sample - loss: 0.6938 - accuracy: 0.7611 - val_loss: 1.5622 - val_accuracy: 0.6901\n",
      "Epoch 11/100\n",
      "60000/60000 [==============================] - 1s 25us/sample - loss: 0.6923 - accuracy: 0.7616 - val_loss: 1.5577 - val_accuracy: 0.6905\n",
      "Epoch 12/100\n",
      "60000/60000 [==============================] - 2s 25us/sample - loss: 0.6908 - accuracy: 0.7620 - val_loss: 1.5532 - val_accuracy: 0.6916\n",
      "Epoch 13/100\n",
      "60000/60000 [==============================] - 2s 26us/sample - loss: 0.6894 - accuracy: 0.7625 - val_loss: 1.5487 - val_accuracy: 0.6921\n",
      "Epoch 14/100\n",
      "60000/60000 [==============================] - 1s 24us/sample - loss: 0.6880 - accuracy: 0.7629 - val_loss: 1.5442 - val_accuracy: 0.6928\n",
      "Epoch 15/100\n",
      "60000/60000 [==============================] - 1s 24us/sample - loss: 0.6866 - accuracy: 0.7632 - val_loss: 1.5397 - val_accuracy: 0.6941\n",
      "Epoch 16/100\n",
      "60000/60000 [==============================] - 1s 24us/sample - loss: 0.6852 - accuracy: 0.7636 - val_loss: 1.5352 - val_accuracy: 0.6952\n",
      "Epoch 17/100\n",
      "60000/60000 [==============================] - 1s 24us/sample - loss: 0.6838 - accuracy: 0.7639 - val_loss: 1.5307 - val_accuracy: 0.6966\n",
      "Epoch 18/100\n",
      "60000/60000 [==============================] - 1s 24us/sample - loss: 0.6824 - accuracy: 0.7642 - val_loss: 1.5262 - val_accuracy: 0.6981\n",
      "Epoch 19/100\n",
      "60000/60000 [==============================] - 1s 25us/sample - loss: 0.6811 - accuracy: 0.7647 - val_loss: 1.5217 - val_accuracy: 0.6993\n",
      "Epoch 20/100\n",
      "60000/60000 [==============================] - 2s 25us/sample - loss: 0.6798 - accuracy: 0.7652 - val_loss: 1.5172 - val_accuracy: 0.7003\n",
      "Epoch 21/100\n",
      "60000/60000 [==============================] - 1s 24us/sample - loss: 0.6785 - accuracy: 0.7657 - val_loss: 1.5127 - val_accuracy: 0.7007\n",
      "Epoch 22/100\n",
      "60000/60000 [==============================] - 1s 24us/sample - loss: 0.6772 - accuracy: 0.7662 - val_loss: 1.5082 - val_accuracy: 0.7024\n",
      "Epoch 23/100\n",
      "60000/60000 [==============================] - 2s 25us/sample - loss: 0.6760 - accuracy: 0.7664 - val_loss: 1.5037 - val_accuracy: 0.7028\n",
      "Epoch 24/100\n",
      "60000/60000 [==============================] - 1s 24us/sample - loss: 0.6747 - accuracy: 0.7666 - val_loss: 1.4992 - val_accuracy: 0.7034\n",
      "Epoch 25/100\n",
      "60000/60000 [==============================] - 1s 24us/sample - loss: 0.6735 - accuracy: 0.7670 - val_loss: 1.4947 - val_accuracy: 0.7044\n",
      "Epoch 26/100\n",
      "60000/60000 [==============================] - 1s 24us/sample - loss: 0.6723 - accuracy: 0.7674 - val_loss: 1.4902 - val_accuracy: 0.7053\n",
      "Epoch 27/100\n",
      "60000/60000 [==============================] - 1s 25us/sample - loss: 0.6711 - accuracy: 0.7679 - val_loss: 1.4857 - val_accuracy: 0.7063\n",
      "Epoch 28/100\n",
      "60000/60000 [==============================] - 1s 25us/sample - loss: 0.6699 - accuracy: 0.7684 - val_loss: 1.4812 - val_accuracy: 0.7073\n",
      "Epoch 29/100\n",
      "60000/60000 [==============================] - 1s 24us/sample - loss: 0.6687 - accuracy: 0.7688 - val_loss: 1.4768 - val_accuracy: 0.7082\n",
      "Epoch 30/100\n",
      "60000/60000 [==============================] - 1s 25us/sample - loss: 0.6676 - accuracy: 0.7691 - val_loss: 1.4723 - val_accuracy: 0.7091\n",
      "Epoch 31/100\n",
      "60000/60000 [==============================] - 1s 25us/sample - loss: 0.6664 - accuracy: 0.7694 - val_loss: 1.4678 - val_accuracy: 0.7098\n",
      "Epoch 32/100\n",
      "60000/60000 [==============================] - 1s 25us/sample - loss: 0.6653 - accuracy: 0.7698 - val_loss: 1.4633 - val_accuracy: 0.7107\n",
      "Epoch 33/100\n",
      "60000/60000 [==============================] - 1s 24us/sample - loss: 0.6642 - accuracy: 0.7702 - val_loss: 1.4588 - val_accuracy: 0.7116\n",
      "Epoch 34/100\n",
      "60000/60000 [==============================] - 1s 24us/sample - loss: 0.6631 - accuracy: 0.7704 - val_loss: 1.4544 - val_accuracy: 0.7127\n",
      "Epoch 35/100\n",
      "60000/60000 [==============================] - 2s 25us/sample - loss: 0.6620 - accuracy: 0.7707 - val_loss: 1.4499 - val_accuracy: 0.7133\n",
      "Epoch 36/100\n",
      "60000/60000 [==============================] - 1s 25us/sample - loss: 0.6609 - accuracy: 0.7711 - val_loss: 1.4454 - val_accuracy: 0.7144\n",
      "Epoch 37/100\n",
      "60000/60000 [==============================] - 2s 25us/sample - loss: 0.6598 - accuracy: 0.7714 - val_loss: 1.4410 - val_accuracy: 0.7148\n",
      "Epoch 38/100\n",
      "60000/60000 [==============================] - 2s 25us/sample - loss: 0.6588 - accuracy: 0.7717 - val_loss: 1.4365 - val_accuracy: 0.7159\n",
      "Epoch 39/100\n",
      "60000/60000 [==============================] - 1s 24us/sample - loss: 0.6578 - accuracy: 0.7721 - val_loss: 1.4320 - val_accuracy: 0.7167\n",
      "Epoch 40/100\n",
      "60000/60000 [==============================] - 1s 24us/sample - loss: 0.6567 - accuracy: 0.7725 - val_loss: 1.4276 - val_accuracy: 0.7179\n",
      "Epoch 41/100\n",
      "60000/60000 [==============================] - 1s 25us/sample - loss: 0.6557 - accuracy: 0.7728 - val_loss: 1.4231 - val_accuracy: 0.7188\n",
      "Epoch 42/100\n",
      "60000/60000 [==============================] - 2s 26us/sample - loss: 0.6547 - accuracy: 0.7731 - val_loss: 1.4187 - val_accuracy: 0.7200\n",
      "Epoch 43/100\n",
      "60000/60000 [==============================] - 2s 28us/sample - loss: 0.6537 - accuracy: 0.7734 - val_loss: 1.4142 - val_accuracy: 0.7214\n",
      "Epoch 44/100\n",
      "60000/60000 [==============================] - 2s 27us/sample - loss: 0.6527 - accuracy: 0.7737 - val_loss: 1.4098 - val_accuracy: 0.7219\n",
      "Epoch 45/100\n",
      "60000/60000 [==============================] - 2s 26us/sample - loss: 0.6518 - accuracy: 0.7740 - val_loss: 1.4053 - val_accuracy: 0.7224\n",
      "Epoch 46/100\n",
      "60000/60000 [==============================] - 2s 26us/sample - loss: 0.6508 - accuracy: 0.7743 - val_loss: 1.4009 - val_accuracy: 0.7234\n",
      "Epoch 47/100\n",
      "60000/60000 [==============================] - 2s 25us/sample - loss: 0.6498 - accuracy: 0.7746 - val_loss: 1.3964 - val_accuracy: 0.7240\n",
      "Epoch 48/100\n",
      "60000/60000 [==============================] - 1s 25us/sample - loss: 0.6489 - accuracy: 0.7750 - val_loss: 1.3920 - val_accuracy: 0.7244\n",
      "Epoch 49/100\n",
      "60000/60000 [==============================] - 2s 25us/sample - loss: 0.6480 - accuracy: 0.7751 - val_loss: 1.3876 - val_accuracy: 0.7259\n",
      "Epoch 50/100\n",
      "60000/60000 [==============================] - 2s 25us/sample - loss: 0.6470 - accuracy: 0.7755 - val_loss: 1.3831 - val_accuracy: 0.7267\n",
      "Epoch 51/100\n",
      "60000/60000 [==============================] - 1s 24us/sample - loss: 0.6461 - accuracy: 0.7757 - val_loss: 1.3787 - val_accuracy: 0.7272\n",
      "Epoch 52/100\n",
      "60000/60000 [==============================] - 1s 23us/sample - loss: 0.6452 - accuracy: 0.7761 - val_loss: 1.3743 - val_accuracy: 0.7277\n",
      "Epoch 53/100\n",
      "60000/60000 [==============================] - 1s 24us/sample - loss: 0.6443 - accuracy: 0.7764 - val_loss: 1.3699 - val_accuracy: 0.7284\n",
      "Epoch 54/100\n",
      "60000/60000 [==============================] - 1s 24us/sample - loss: 0.6434 - accuracy: 0.7768 - val_loss: 1.3655 - val_accuracy: 0.7291\n",
      "Epoch 55/100\n",
      "60000/60000 [==============================] - 1s 24us/sample - loss: 0.6426 - accuracy: 0.7772 - val_loss: 1.3611 - val_accuracy: 0.7292\n",
      "Epoch 56/100\n",
      "60000/60000 [==============================] - 2s 25us/sample - loss: 0.6417 - accuracy: 0.7777 - val_loss: 1.3567 - val_accuracy: 0.7298\n",
      "Epoch 57/100\n",
      "60000/60000 [==============================] - 1s 20us/sample - loss: 0.6408 - accuracy: 0.7779 - val_loss: 1.3523 - val_accuracy: 0.7297\n",
      "Epoch 58/100\n",
      "60000/60000 [==============================] - 1s 24us/sample - loss: 0.6400 - accuracy: 0.7781 - val_loss: 1.3479 - val_accuracy: 0.7310\n",
      "Epoch 59/100\n",
      "60000/60000 [==============================] - 1s 23us/sample - loss: 0.6391 - accuracy: 0.7784 - val_loss: 1.3435 - val_accuracy: 0.7319\n",
      "Epoch 60/100\n",
      "60000/60000 [==============================] - 1s 24us/sample - loss: 0.6383 - accuracy: 0.7788 - val_loss: 1.3391 - val_accuracy: 0.7321\n",
      "Epoch 61/100\n",
      "60000/60000 [==============================] - 1s 24us/sample - loss: 0.6375 - accuracy: 0.7790 - val_loss: 1.3347 - val_accuracy: 0.7329\n",
      "Epoch 62/100\n",
      "60000/60000 [==============================] - 1s 25us/sample - loss: 0.6367 - accuracy: 0.7793 - val_loss: 1.3303 - val_accuracy: 0.7338\n",
      "Epoch 63/100\n",
      "60000/60000 [==============================] - 1s 24us/sample - loss: 0.6358 - accuracy: 0.7796 - val_loss: 1.3259 - val_accuracy: 0.7344\n",
      "Epoch 64/100\n",
      "60000/60000 [==============================] - 1s 25us/sample - loss: 0.6350 - accuracy: 0.7799 - val_loss: 1.3216 - val_accuracy: 0.7354\n",
      "Epoch 65/100\n",
      "60000/60000 [==============================] - 1s 25us/sample - loss: 0.6342 - accuracy: 0.7802 - val_loss: 1.3172 - val_accuracy: 0.7359\n",
      "Epoch 66/100\n",
      "60000/60000 [==============================] - 1s 24us/sample - loss: 0.6334 - accuracy: 0.7804 - val_loss: 1.3128 - val_accuracy: 0.7369\n",
      "Epoch 67/100\n",
      "60000/60000 [==============================] - 1s 24us/sample - loss: 0.6327 - accuracy: 0.7806 - val_loss: 1.3085 - val_accuracy: 0.7376\n",
      "Epoch 68/100\n",
      "60000/60000 [==============================] - 1s 24us/sample - loss: 0.6319 - accuracy: 0.7809 - val_loss: 1.3041 - val_accuracy: 0.7384\n",
      "Epoch 69/100\n",
      "60000/60000 [==============================] - 1s 24us/sample - loss: 0.6311 - accuracy: 0.7813 - val_loss: 1.2998 - val_accuracy: 0.7390\n",
      "Epoch 70/100\n",
      "60000/60000 [==============================] - 1s 24us/sample - loss: 0.6304 - accuracy: 0.7815 - val_loss: 1.2955 - val_accuracy: 0.7397\n",
      "Epoch 71/100\n",
      "60000/60000 [==============================] - 1s 25us/sample - loss: 0.6296 - accuracy: 0.7818 - val_loss: 1.2911 - val_accuracy: 0.7402\n",
      "Epoch 72/100\n",
      "60000/60000 [==============================] - 2s 25us/sample - loss: 0.6289 - accuracy: 0.7821 - val_loss: 1.2868 - val_accuracy: 0.7411\n",
      "Epoch 73/100\n",
      "60000/60000 [==============================] - 1s 24us/sample - loss: 0.6281 - accuracy: 0.7822 - val_loss: 1.2825 - val_accuracy: 0.7416\n",
      "Epoch 74/100\n",
      "60000/60000 [==============================] - 1s 24us/sample - loss: 0.6274 - accuracy: 0.7826 - val_loss: 1.2782 - val_accuracy: 0.7419\n",
      "Epoch 75/100\n",
      "60000/60000 [==============================] - 1s 24us/sample - loss: 0.6267 - accuracy: 0.7828 - val_loss: 1.2739 - val_accuracy: 0.7423\n",
      "Epoch 76/100\n",
      "60000/60000 [==============================] - 1s 24us/sample - loss: 0.6259 - accuracy: 0.7830 - val_loss: 1.2696 - val_accuracy: 0.7427\n",
      "Epoch 77/100\n",
      "60000/60000 [==============================] - 1s 25us/sample - loss: 0.6252 - accuracy: 0.7832 - val_loss: 1.2653 - val_accuracy: 0.7432\n",
      "Epoch 78/100\n",
      "60000/60000 [==============================] - 2s 26us/sample - loss: 0.6245 - accuracy: 0.7835 - val_loss: 1.2610 - val_accuracy: 0.7437\n",
      "Epoch 79/100\n",
      "60000/60000 [==============================] - 1s 25us/sample - loss: 0.6238 - accuracy: 0.7837 - val_loss: 1.2567 - val_accuracy: 0.7445\n",
      "Epoch 80/100\n",
      "60000/60000 [==============================] - 1s 24us/sample - loss: 0.6231 - accuracy: 0.7839 - val_loss: 1.2525 - val_accuracy: 0.7449\n",
      "Epoch 81/100\n",
      "60000/60000 [==============================] - 1s 23us/sample - loss: 0.6224 - accuracy: 0.7842 - val_loss: 1.2482 - val_accuracy: 0.7457\n",
      "Epoch 82/100\n",
      "60000/60000 [==============================] - 1s 25us/sample - loss: 0.6217 - accuracy: 0.7843 - val_loss: 1.2439 - val_accuracy: 0.7469\n",
      "Epoch 83/100\n",
      "60000/60000 [==============================] - 1s 24us/sample - loss: 0.6210 - accuracy: 0.7845 - val_loss: 1.2397 - val_accuracy: 0.7474\n",
      "Epoch 84/100\n",
      "60000/60000 [==============================] - 2s 25us/sample - loss: 0.6204 - accuracy: 0.7847 - val_loss: 1.2354 - val_accuracy: 0.7483\n",
      "Epoch 85/100\n",
      "60000/60000 [==============================] - 2s 25us/sample - loss: 0.6197 - accuracy: 0.7847 - val_loss: 1.2312 - val_accuracy: 0.7489\n",
      "Epoch 86/100\n",
      "60000/60000 [==============================] - 1s 24us/sample - loss: 0.6190 - accuracy: 0.7850 - val_loss: 1.2270 - val_accuracy: 0.7497\n",
      "Epoch 87/100\n",
      "60000/60000 [==============================] - 1s 24us/sample - loss: 0.6184 - accuracy: 0.7851 - val_loss: 1.2228 - val_accuracy: 0.7500\n",
      "Epoch 88/100\n",
      "60000/60000 [==============================] - 1s 25us/sample - loss: 0.6177 - accuracy: 0.7854 - val_loss: 1.2186 - val_accuracy: 0.7509\n",
      "Epoch 89/100\n",
      "60000/60000 [==============================] - 2s 25us/sample - loss: 0.6171 - accuracy: 0.7855 - val_loss: 1.2143 - val_accuracy: 0.7513\n",
      "Epoch 90/100\n",
      "60000/60000 [==============================] - 2s 25us/sample - loss: 0.6164 - accuracy: 0.7857 - val_loss: 1.2102 - val_accuracy: 0.7519\n",
      "Epoch 91/100\n",
      "60000/60000 [==============================] - 1s 25us/sample - loss: 0.6158 - accuracy: 0.7859 - val_loss: 1.2060 - val_accuracy: 0.7525\n",
      "Epoch 92/100\n",
      "60000/60000 [==============================] - 2s 26us/sample - loss: 0.6152 - accuracy: 0.7861 - val_loss: 1.2018 - val_accuracy: 0.7528\n",
      "Epoch 93/100\n",
      "60000/60000 [==============================] - 2s 26us/sample - loss: 0.6145 - accuracy: 0.7865 - val_loss: 1.1976 - val_accuracy: 0.7525\n",
      "Epoch 94/100\n",
      "60000/60000 [==============================] - 1s 24us/sample - loss: 0.6139 - accuracy: 0.7868 - val_loss: 1.1935 - val_accuracy: 0.7526\n",
      "Epoch 95/100\n",
      "60000/60000 [==============================] - 1s 25us/sample - loss: 0.6133 - accuracy: 0.7870 - val_loss: 1.1893 - val_accuracy: 0.7533\n",
      "Epoch 96/100\n",
      "60000/60000 [==============================] - 1s 24us/sample - loss: 0.6127 - accuracy: 0.7872 - val_loss: 1.1852 - val_accuracy: 0.7537\n",
      "Epoch 97/100\n",
      "60000/60000 [==============================] - 1s 24us/sample - loss: 0.6121 - accuracy: 0.7875 - val_loss: 1.1810 - val_accuracy: 0.7545\n",
      "Epoch 98/100\n",
      "60000/60000 [==============================] - 1s 24us/sample - loss: 0.6115 - accuracy: 0.7877 - val_loss: 1.1769 - val_accuracy: 0.7553\n",
      "Epoch 99/100\n",
      "60000/60000 [==============================] - 1s 24us/sample - loss: 0.6109 - accuracy: 0.7878 - val_loss: 1.1728 - val_accuracy: 0.7556\n",
      "Epoch 100/100\n",
      "60000/60000 [==============================] - 1s 24us/sample - loss: 0.6103 - accuracy: 0.7880 - val_loss: 1.1687 - val_accuracy: 0.7560\n"
     ]
    },
    {
     "data": {
      "text/plain": [
       "<tensorflow.python.keras.callbacks.History at 0x7f3b9c7be990>"
      ]
     },
     "execution_count": 37,
     "metadata": {
      "tags": []
     },
     "output_type": "execute_result"
    }
   ],
   "source": [
    "model.fit(X_train, train_labels, \n",
    "          validation_data=(X_test, test_labels), \n",
    "          epochs=100,\n",
    "          batch_size=trainX.shape[0])"
   ]
  },
  {
   "cell_type": "markdown",
   "metadata": {
    "colab_type": "text",
    "id": "j9CSqKvpOIVk"
   },
   "source": [
    "### Build the Neural Network model with 3 Dense layers with 100,100,10 neurons respectively in each layer. Use cross entropy loss function and singmoid as activation in the hidden layers and softmax as activation function in the output layer. Use sgd optimizer with learning rate 0.03."
   ]
  },
  {
   "cell_type": "code",
   "execution_count": 0,
   "metadata": {
    "colab": {},
    "colab_type": "code",
    "id": "GGAad54JOIVm"
   },
   "outputs": [],
   "source": [
    "#Add 1st hidden layer\n",
    "model.add(tf.keras.layers.Dense(100, activation='sigmoid'))"
   ]
  },
  {
   "cell_type": "code",
   "execution_count": 0,
   "metadata": {
    "colab": {},
    "colab_type": "code",
    "id": "MQ7oIymROIVp"
   },
   "outputs": [],
   "source": [
    "#Add 2nd hidden layer\n",
    "model.add(tf.keras.layers.Dense(100, activation='sigmoid'))"
   ]
  },
  {
   "cell_type": "code",
   "execution_count": 0,
   "metadata": {
    "colab": {},
    "colab_type": "code",
    "id": "X-O-fFxnOIVt"
   },
   "outputs": [],
   "source": [
    "#Add OUTPUT layer\n",
    "model.add(tf.keras.layers.Dense(10, activation='softmax'))"
   ]
  },
  {
   "cell_type": "code",
   "execution_count": 0,
   "metadata": {
    "colab": {},
    "colab_type": "code",
    "id": "tWmTD8EkgCdH"
   },
   "outputs": [],
   "source": [
    "sgd = optimizers.SGD(lr=0.03)"
   ]
  },
  {
   "cell_type": "code",
   "execution_count": 0,
   "metadata": {
    "colab": {},
    "colab_type": "code",
    "id": "BiP7IL52OIVw"
   },
   "outputs": [],
   "source": [
    "#Compile the model\n",
    "model.compile(optimizer='sgd', loss='categorical_crossentropy', \n",
    "              metrics=['accuracy'])"
   ]
  },
  {
   "cell_type": "markdown",
   "metadata": {
    "colab_type": "text",
    "id": "Nr2YsZV0OIV0"
   },
   "source": [
    "## Review model"
   ]
  },
  {
   "cell_type": "code",
   "execution_count": 44,
   "metadata": {
    "colab": {
     "base_uri": "https://localhost:8080/",
     "height": 364
    },
    "colab_type": "code",
    "executionInfo": {
     "elapsed": 1209,
     "status": "ok",
     "timestamp": 1572090353224,
     "user": {
      "displayName": "Ritul Singh",
      "photoUrl": "",
      "userId": "05150505717387322309"
     },
     "user_tz": -330
    },
    "id": "h4ojW6-oOIV2",
    "outputId": "43ffadda-16a8-4a7f-e31d-1bc50be618fd"
   },
   "outputs": [
    {
     "name": "stdout",
     "output_type": "stream",
     "text": [
      "Model: \"sequential_2\"\n",
      "_________________________________________________________________\n",
      "Layer (type)                 Output Shape              Param #   \n",
      "=================================================================\n",
      "reshape_2 (Reshape)          (None, 784)               0         \n",
      "_________________________________________________________________\n",
      "batch_normalization_2 (Batch (None, 784)               3136      \n",
      "_________________________________________________________________\n",
      "dense_2 (Dense)              (None, 10)                7850      \n",
      "_________________________________________________________________\n",
      "dense_3 (Dense)              (None, 100)               1100      \n",
      "_________________________________________________________________\n",
      "dense_4 (Dense)              (None, 100)               10100     \n",
      "_________________________________________________________________\n",
      "dense_5 (Dense)              (None, 10)                1010      \n",
      "=================================================================\n",
      "Total params: 23,196\n",
      "Trainable params: 21,628\n",
      "Non-trainable params: 1,568\n",
      "_________________________________________________________________\n"
     ]
    }
   ],
   "source": [
    "model.summary()"
   ]
  },
  {
   "cell_type": "markdown",
   "metadata": {
    "colab_type": "text",
    "id": "gfFGmbZLOIV5"
   },
   "source": [
    "### Run the model"
   ]
  },
  {
   "cell_type": "code",
   "execution_count": 0,
   "metadata": {
    "colab": {
     "base_uri": "https://localhost:8080/",
     "height": 1000
    },
    "colab_type": "code",
    "id": "bIkbMEN5OIV7",
    "outputId": "6a087f47-cf07-4c18-a74c-bf50b74e41a9"
   },
   "outputs": [
    {
     "name": "stdout",
     "output_type": "stream",
     "text": [
      "Train on 60000 samples, validate on 10000 samples\n",
      "Epoch 1/100\n",
      "60000/60000 [==============================] - 3s 45us/sample - loss: 2.6639 - accuracy: 0.1000 - val_loss: 2.6412 - val_accuracy: 0.1000\n",
      "Epoch 2/100\n",
      "60000/60000 [==============================] - 2s 29us/sample - loss: 2.6412 - accuracy: 0.1000 - val_loss: 2.6199 - val_accuracy: 0.1000\n",
      "Epoch 3/100\n",
      "60000/60000 [==============================] - 2s 29us/sample - loss: 2.6199 - accuracy: 0.1000 - val_loss: 2.5999 - val_accuracy: 0.1000\n",
      "Epoch 4/100\n",
      "60000/60000 [==============================] - 2s 28us/sample - loss: 2.5999 - accuracy: 0.1000 - val_loss: 2.5811 - val_accuracy: 0.1000\n",
      "Epoch 5/100\n",
      "60000/60000 [==============================] - 2s 28us/sample - loss: 2.5811 - accuracy: 0.1000 - val_loss: 2.5635 - val_accuracy: 0.1000\n",
      "Epoch 6/100\n",
      "60000/60000 [==============================] - 2s 30us/sample - loss: 2.5635 - accuracy: 0.1000 - val_loss: 2.5470 - val_accuracy: 0.1000\n",
      "Epoch 7/100\n",
      "60000/60000 [==============================] - 1s 23us/sample - loss: 2.5470 - accuracy: 0.1000 - val_loss: 2.5316 - val_accuracy: 0.1000\n",
      "Epoch 8/100\n",
      "60000/60000 [==============================] - 1s 23us/sample - loss: 2.5316 - accuracy: 0.1000 - val_loss: 2.5171 - val_accuracy: 0.1000\n",
      "Epoch 9/100\n",
      "60000/60000 [==============================] - 2s 26us/sample - loss: 2.5171 - accuracy: 0.1000 - val_loss: 2.5035 - val_accuracy: 0.1000\n",
      "Epoch 10/100\n",
      "60000/60000 [==============================] - 1s 22us/sample - loss: 2.5035 - accuracy: 0.1000 - val_loss: 2.4908 - val_accuracy: 0.1000\n",
      "Epoch 11/100\n",
      "60000/60000 [==============================] - 2s 26us/sample - loss: 2.4908 - accuracy: 0.1000 - val_loss: 2.4789 - val_accuracy: 0.1000\n",
      "Epoch 12/100\n",
      "60000/60000 [==============================] - 2s 29us/sample - loss: 2.4789 - accuracy: 0.1000 - val_loss: 2.4678 - val_accuracy: 0.1000\n",
      "Epoch 13/100\n",
      "60000/60000 [==============================] - 2s 29us/sample - loss: 2.4677 - accuracy: 0.1000 - val_loss: 2.4573 - val_accuracy: 0.1000\n",
      "Epoch 14/100\n",
      "60000/60000 [==============================] - 2s 29us/sample - loss: 2.4573 - accuracy: 0.1000 - val_loss: 2.4476 - val_accuracy: 0.1000\n",
      "Epoch 15/100\n",
      "60000/60000 [==============================] - 2s 29us/sample - loss: 2.4476 - accuracy: 0.1000 - val_loss: 2.4385 - val_accuracy: 0.1000\n",
      "Epoch 16/100\n",
      "60000/60000 [==============================] - 2s 26us/sample - loss: 2.4384 - accuracy: 0.1000 - val_loss: 2.4299 - val_accuracy: 0.1000\n",
      "Epoch 17/100\n",
      "60000/60000 [==============================] - 2s 32us/sample - loss: 2.4299 - accuracy: 0.1000 - val_loss: 2.4219 - val_accuracy: 0.1000\n",
      "Epoch 18/100\n",
      "60000/60000 [==============================] - 2s 29us/sample - loss: 2.4219 - accuracy: 0.1000 - val_loss: 2.4145 - val_accuracy: 0.1000\n",
      "Epoch 19/100\n",
      "60000/60000 [==============================] - 2s 28us/sample - loss: 2.4144 - accuracy: 0.1000 - val_loss: 2.4075 - val_accuracy: 0.1000\n",
      "Epoch 20/100\n",
      "60000/60000 [==============================] - 2s 27us/sample - loss: 2.4074 - accuracy: 0.1000 - val_loss: 2.4009 - val_accuracy: 0.1000\n",
      "Epoch 21/100\n",
      "60000/60000 [==============================] - 2s 28us/sample - loss: 2.4009 - accuracy: 0.1000 - val_loss: 2.3948 - val_accuracy: 0.1000\n",
      "Epoch 22/100\n",
      "60000/60000 [==============================] - 2s 29us/sample - loss: 2.3948 - accuracy: 0.1000 - val_loss: 2.3891 - val_accuracy: 0.1000\n",
      "Epoch 23/100\n",
      "60000/60000 [==============================] - 2s 28us/sample - loss: 2.3890 - accuracy: 0.1000 - val_loss: 2.3837 - val_accuracy: 0.1000\n",
      "Epoch 24/100\n",
      "60000/60000 [==============================] - 2s 28us/sample - loss: 2.3837 - accuracy: 0.1000 - val_loss: 2.3787 - val_accuracy: 0.1000\n",
      "Epoch 25/100\n",
      "60000/60000 [==============================] - 2s 29us/sample - loss: 2.3786 - accuracy: 0.1000 - val_loss: 2.3740 - val_accuracy: 0.1000\n",
      "Epoch 26/100\n",
      "60000/60000 [==============================] - 2s 28us/sample - loss: 2.3739 - accuracy: 0.1000 - val_loss: 2.3696 - val_accuracy: 0.1000\n",
      "Epoch 27/100\n",
      "60000/60000 [==============================] - 1s 22us/sample - loss: 2.3695 - accuracy: 0.1000 - val_loss: 2.3655 - val_accuracy: 0.1000\n",
      "Epoch 28/100\n",
      "60000/60000 [==============================] - 1s 22us/sample - loss: 2.3654 - accuracy: 0.1001 - val_loss: 2.3616 - val_accuracy: 0.1000\n",
      "Epoch 29/100\n",
      "60000/60000 [==============================] - 2s 26us/sample - loss: 2.3615 - accuracy: 0.1001 - val_loss: 2.3580 - val_accuracy: 0.1000\n",
      "Epoch 30/100\n",
      "60000/60000 [==============================] - 2s 29us/sample - loss: 2.3579 - accuracy: 0.1002 - val_loss: 2.3546 - val_accuracy: 0.1000\n",
      "Epoch 31/100\n",
      "60000/60000 [==============================] - 2s 29us/sample - loss: 2.3545 - accuracy: 0.1002 - val_loss: 2.3514 - val_accuracy: 0.1000\n",
      "Epoch 32/100\n",
      "60000/60000 [==============================] - 2s 27us/sample - loss: 2.3514 - accuracy: 0.1003 - val_loss: 2.3484 - val_accuracy: 0.1000\n",
      "Epoch 33/100\n",
      "60000/60000 [==============================] - 1s 22us/sample - loss: 2.3484 - accuracy: 0.1004 - val_loss: 2.3457 - val_accuracy: 0.1000\n",
      "Epoch 34/100\n",
      "60000/60000 [==============================] - 2s 27us/sample - loss: 2.3456 - accuracy: 0.1004 - val_loss: 2.3430 - val_accuracy: 0.1000\n",
      "Epoch 35/100\n",
      "60000/60000 [==============================] - 2s 28us/sample - loss: 2.3430 - accuracy: 0.1005 - val_loss: 2.3406 - val_accuracy: 0.1000\n",
      "Epoch 36/100\n",
      "60000/60000 [==============================] - 2s 26us/sample - loss: 2.3405 - accuracy: 0.1005 - val_loss: 2.3383 - val_accuracy: 0.1000\n",
      "Epoch 37/100\n",
      "60000/60000 [==============================] - 1s 21us/sample - loss: 2.3382 - accuracy: 0.0998 - val_loss: 2.3361 - val_accuracy: 0.1000\n",
      "Epoch 38/100\n",
      "60000/60000 [==============================] - 1s 21us/sample - loss: 2.3360 - accuracy: 0.0992 - val_loss: 2.3341 - val_accuracy: 0.0999\n",
      "Epoch 39/100\n",
      "60000/60000 [==============================] - 2s 28us/sample - loss: 2.3340 - accuracy: 0.0988 - val_loss: 2.3322 - val_accuracy: 0.0998\n",
      "Epoch 40/100\n",
      "60000/60000 [==============================] - 2s 28us/sample - loss: 2.3321 - accuracy: 0.0985 - val_loss: 2.3304 - val_accuracy: 0.0997\n",
      "Epoch 41/100\n",
      "60000/60000 [==============================] - 2s 28us/sample - loss: 2.3303 - accuracy: 0.0980 - val_loss: 2.3288 - val_accuracy: 0.0995\n",
      "Epoch 42/100\n",
      "60000/60000 [==============================] - 2s 29us/sample - loss: 2.3286 - accuracy: 0.0977 - val_loss: 2.3272 - val_accuracy: 0.0986\n",
      "Epoch 43/100\n",
      "60000/60000 [==============================] - 2s 30us/sample - loss: 2.3271 - accuracy: 0.0972 - val_loss: 2.3257 - val_accuracy: 0.0978\n",
      "Epoch 44/100\n",
      "60000/60000 [==============================] - 2s 29us/sample - loss: 2.3256 - accuracy: 0.0967 - val_loss: 2.3243 - val_accuracy: 0.0964\n",
      "Epoch 45/100\n",
      "60000/60000 [==============================] - 2s 26us/sample - loss: 2.3242 - accuracy: 0.0965 - val_loss: 2.3230 - val_accuracy: 0.0952\n",
      "Epoch 46/100\n",
      "60000/60000 [==============================] - 2s 28us/sample - loss: 2.3229 - accuracy: 0.0963 - val_loss: 2.3218 - val_accuracy: 0.0937\n",
      "Epoch 47/100\n",
      "60000/60000 [==============================] - 2s 29us/sample - loss: 2.3217 - accuracy: 0.0960 - val_loss: 2.3207 - val_accuracy: 0.0916\n",
      "Epoch 48/100\n",
      "60000/60000 [==============================] - 2s 29us/sample - loss: 2.3205 - accuracy: 0.0955 - val_loss: 2.3196 - val_accuracy: 0.0900\n",
      "Epoch 49/100\n",
      "60000/60000 [==============================] - 2s 29us/sample - loss: 2.3194 - accuracy: 0.0952 - val_loss: 2.3186 - val_accuracy: 0.0887\n",
      "Epoch 50/100\n",
      "60000/60000 [==============================] - 2s 28us/sample - loss: 2.3184 - accuracy: 0.0949 - val_loss: 2.3176 - val_accuracy: 0.0873\n",
      "Epoch 51/100\n",
      "60000/60000 [==============================] - 2s 27us/sample - loss: 2.3175 - accuracy: 0.0947 - val_loss: 2.3167 - val_accuracy: 0.0850\n",
      "Epoch 52/100\n",
      "60000/60000 [==============================] - 2s 29us/sample - loss: 2.3166 - accuracy: 0.0945 - val_loss: 2.3159 - val_accuracy: 0.0827\n",
      "Epoch 53/100\n",
      "60000/60000 [==============================] - 2s 30us/sample - loss: 2.3157 - accuracy: 0.0943 - val_loss: 2.3151 - val_accuracy: 0.0801\n",
      "Epoch 54/100\n",
      "60000/60000 [==============================] - 2s 29us/sample - loss: 2.3149 - accuracy: 0.0939 - val_loss: 2.3143 - val_accuracy: 0.0786\n",
      "Epoch 55/100\n",
      "60000/60000 [==============================] - 2s 29us/sample - loss: 2.3142 - accuracy: 0.0938 - val_loss: 2.3136 - val_accuracy: 0.0763\n",
      "Epoch 56/100\n",
      "60000/60000 [==============================] - 2s 27us/sample - loss: 2.3135 - accuracy: 0.0935 - val_loss: 2.3130 - val_accuracy: 0.0743\n",
      "Epoch 57/100\n",
      "60000/60000 [==============================] - 2s 27us/sample - loss: 2.3128 - accuracy: 0.0933 - val_loss: 2.3124 - val_accuracy: 0.0730\n",
      "Epoch 58/100\n",
      "60000/60000 [==============================] - 2s 29us/sample - loss: 2.3122 - accuracy: 0.0932 - val_loss: 2.3118 - val_accuracy: 0.0724\n",
      "Epoch 59/100\n",
      "60000/60000 [==============================] - 2s 29us/sample - loss: 2.3116 - accuracy: 0.0931 - val_loss: 2.3112 - val_accuracy: 0.0716\n",
      "Epoch 60/100\n",
      "60000/60000 [==============================] - 2s 28us/sample - loss: 2.3111 - accuracy: 0.0930 - val_loss: 2.3107 - val_accuracy: 0.0701\n",
      "Epoch 61/100\n",
      "60000/60000 [==============================] - 2s 31us/sample - loss: 2.3105 - accuracy: 0.0930 - val_loss: 2.3102 - val_accuracy: 0.0685\n",
      "Epoch 62/100\n",
      "60000/60000 [==============================] - 2s 29us/sample - loss: 2.3100 - accuracy: 0.0929 - val_loss: 2.3098 - val_accuracy: 0.0675\n",
      "Epoch 63/100\n",
      "60000/60000 [==============================] - 2s 27us/sample - loss: 2.3096 - accuracy: 0.0930 - val_loss: 2.3093 - val_accuracy: 0.0671\n",
      "Epoch 64/100\n",
      "60000/60000 [==============================] - 2s 28us/sample - loss: 2.3091 - accuracy: 0.0929 - val_loss: 2.3089 - val_accuracy: 0.0670\n",
      "Epoch 65/100\n",
      "60000/60000 [==============================] - 2s 29us/sample - loss: 2.3087 - accuracy: 0.0928 - val_loss: 2.3085 - val_accuracy: 0.0666\n",
      "Epoch 66/100\n",
      "60000/60000 [==============================] - 2s 29us/sample - loss: 2.3084 - accuracy: 0.0929 - val_loss: 2.3082 - val_accuracy: 0.0667\n",
      "Epoch 67/100\n",
      "60000/60000 [==============================] - 2s 29us/sample - loss: 2.3080 - accuracy: 0.0929 - val_loss: 2.3078 - val_accuracy: 0.0663\n",
      "Epoch 68/100\n",
      "60000/60000 [==============================] - 2s 28us/sample - loss: 2.3076 - accuracy: 0.0930 - val_loss: 2.3075 - val_accuracy: 0.0657\n",
      "Epoch 69/100\n",
      "60000/60000 [==============================] - 1s 22us/sample - loss: 2.3073 - accuracy: 0.0930 - val_loss: 2.3072 - val_accuracy: 0.0657\n",
      "Epoch 70/100\n",
      "60000/60000 [==============================] - 2s 27us/sample - loss: 2.3070 - accuracy: 0.0931 - val_loss: 2.3069 - val_accuracy: 0.0657\n",
      "Epoch 71/100\n",
      "60000/60000 [==============================] - 2s 29us/sample - loss: 2.3067 - accuracy: 0.0931 - val_loss: 2.3067 - val_accuracy: 0.0657\n",
      "Epoch 72/100\n",
      "60000/60000 [==============================] - 2s 29us/sample - loss: 2.3065 - accuracy: 0.0933 - val_loss: 2.3064 - val_accuracy: 0.0659\n",
      "Epoch 73/100\n",
      "60000/60000 [==============================] - 2s 29us/sample - loss: 2.3062 - accuracy: 0.0934 - val_loss: 2.3062 - val_accuracy: 0.0662\n",
      "Epoch 74/100\n",
      "60000/60000 [==============================] - 2s 29us/sample - loss: 2.3060 - accuracy: 0.0935 - val_loss: 2.3060 - val_accuracy: 0.0661\n",
      "Epoch 75/100\n",
      "60000/60000 [==============================] - 2s 29us/sample - loss: 2.3057 - accuracy: 0.0936 - val_loss: 2.3057 - val_accuracy: 0.0663\n",
      "Epoch 76/100\n",
      "60000/60000 [==============================] - 2s 29us/sample - loss: 2.3055 - accuracy: 0.0938 - val_loss: 2.3055 - val_accuracy: 0.0664\n",
      "Epoch 77/100\n",
      "60000/60000 [==============================] - 2s 28us/sample - loss: 2.3053 - accuracy: 0.0939 - val_loss: 2.3053 - val_accuracy: 0.0669\n",
      "Epoch 78/100\n",
      "60000/60000 [==============================] - 2s 28us/sample - loss: 2.3051 - accuracy: 0.0941 - val_loss: 2.3052 - val_accuracy: 0.0673\n",
      "Epoch 79/100\n",
      "60000/60000 [==============================] - 2s 28us/sample - loss: 2.3049 - accuracy: 0.0941 - val_loss: 2.3050 - val_accuracy: 0.0677\n",
      "Epoch 80/100\n",
      "60000/60000 [==============================] - 2s 27us/sample - loss: 2.3048 - accuracy: 0.0942 - val_loss: 2.3048 - val_accuracy: 0.0679\n",
      "Epoch 81/100\n",
      "60000/60000 [==============================] - 2s 28us/sample - loss: 2.3046 - accuracy: 0.0942 - val_loss: 2.3047 - val_accuracy: 0.0687\n",
      "Epoch 82/100\n",
      "60000/60000 [==============================] - 2s 29us/sample - loss: 2.3045 - accuracy: 0.0943 - val_loss: 2.3045 - val_accuracy: 0.0689\n",
      "Epoch 83/100\n",
      "60000/60000 [==============================] - 2s 28us/sample - loss: 2.3043 - accuracy: 0.0944 - val_loss: 2.3044 - val_accuracy: 0.0691\n",
      "Epoch 84/100\n",
      "60000/60000 [==============================] - 2s 29us/sample - loss: 2.3042 - accuracy: 0.0945 - val_loss: 2.3043 - val_accuracy: 0.0693\n",
      "Epoch 85/100\n",
      "60000/60000 [==============================] - 2s 28us/sample - loss: 2.3040 - accuracy: 0.0945 - val_loss: 2.3042 - val_accuracy: 0.0696\n",
      "Epoch 86/100\n",
      "60000/60000 [==============================] - 2s 28us/sample - loss: 2.3039 - accuracy: 0.0946 - val_loss: 2.3041 - val_accuracy: 0.0705\n",
      "Epoch 87/100\n",
      "60000/60000 [==============================] - 2s 29us/sample - loss: 2.3038 - accuracy: 0.0947 - val_loss: 2.3039 - val_accuracy: 0.0715\n",
      "Epoch 88/100\n",
      "60000/60000 [==============================] - 2s 29us/sample - loss: 2.3037 - accuracy: 0.0947 - val_loss: 2.3038 - val_accuracy: 0.0721\n",
      "Epoch 89/100\n",
      "60000/60000 [==============================] - 2s 28us/sample - loss: 2.3036 - accuracy: 0.0948 - val_loss: 2.3037 - val_accuracy: 0.0724\n",
      "Epoch 90/100\n",
      "60000/60000 [==============================] - 2s 29us/sample - loss: 2.3035 - accuracy: 0.0948 - val_loss: 2.3037 - val_accuracy: 0.0731\n",
      "Epoch 91/100\n",
      "60000/60000 [==============================] - 2s 27us/sample - loss: 2.3034 - accuracy: 0.0949 - val_loss: 2.3036 - val_accuracy: 0.0737\n",
      "Epoch 92/100\n",
      "60000/60000 [==============================] - 2s 29us/sample - loss: 2.3033 - accuracy: 0.0951 - val_loss: 2.3035 - val_accuracy: 0.0740\n",
      "Epoch 93/100\n",
      "60000/60000 [==============================] - 2s 29us/sample - loss: 2.3032 - accuracy: 0.0951 - val_loss: 2.3034 - val_accuracy: 0.0745\n",
      "Epoch 94/100\n",
      "60000/60000 [==============================] - 2s 29us/sample - loss: 2.3031 - accuracy: 0.0952 - val_loss: 2.3033 - val_accuracy: 0.0745\n",
      "Epoch 95/100\n",
      "60000/60000 [==============================] - 2s 28us/sample - loss: 2.3031 - accuracy: 0.0953 - val_loss: 2.3033 - val_accuracy: 0.0747\n",
      "Epoch 96/100\n",
      "60000/60000 [==============================] - 2s 28us/sample - loss: 2.3030 - accuracy: 0.0953 - val_loss: 2.3032 - val_accuracy: 0.0751\n",
      "Epoch 97/100\n",
      "60000/60000 [==============================] - 2s 28us/sample - loss: 2.3029 - accuracy: 0.0953 - val_loss: 2.3031 - val_accuracy: 0.0754\n",
      "Epoch 98/100\n",
      "60000/60000 [==============================] - 2s 28us/sample - loss: 2.3029 - accuracy: 0.0953 - val_loss: 2.3031 - val_accuracy: 0.0766\n",
      "Epoch 99/100\n"
     ]
    }
   ],
   "source": [
    "model.fit(X_train, train_labels, \n",
    "          validation_data=(X_test, test_labels), \n",
    "          epochs=100,\n",
    "          batch_size=trainX.shape[0])"
   ]
  }
 ],
 "metadata": {
  "colab": {
   "name": "R6_ExternalLab_AIML.ipynb",
   "provenance": []
  },
  "kernelspec": {
   "display_name": "Python 3",
   "language": "python",
   "name": "python3"
  },
  "language_info": {
   "codemirror_mode": {
    "name": "ipython",
    "version": 3
   },
   "file_extension": ".py",
   "mimetype": "text/x-python",
   "name": "python",
   "nbconvert_exporter": "python",
   "pygments_lexer": "ipython3",
   "version": "3.7.3"
  }
 },
 "nbformat": 4,
 "nbformat_minor": 1
}
