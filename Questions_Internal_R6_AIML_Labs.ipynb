{
  "nbformat": 4,
  "nbformat_minor": 0,
  "metadata": {
    "colab": {
      "name": "Questions - Internal - R6 - AIML Labs.ipynb",
      "provenance": [],
      "collapsed_sections": []
    },
    "kernelspec": {
      "name": "python3",
      "display_name": "Python 3"
    }
  },
  "cells": [
    {
      "cell_type": "markdown",
      "metadata": {
        "id": "zUZjPnVXGz0Z",
        "colab_type": "text"
      },
      "source": [
        "# The Iris Dataset\n",
        "The data set consists of 50 samples from each of three species of Iris (Iris setosa, Iris virginica and Iris versicolor). Four features were measured from each sample: the length and the width of the sepals and petals, in centimeters.\n",
        "\n",
        "The dataset contains a set of 150 records under five attributes - petal length, petal width, sepal length, sepal width and species."
      ]
    },
    {
      "cell_type": "markdown",
      "metadata": {
        "id": "RMbmpriavLE9",
        "colab_type": "text"
      },
      "source": [
        "### Specifying the TensorFlow version\n",
        "Running `import tensorflow` will import the default version (currently 1.x). You can use 2.x by running a cell with the `tensorflow_version` magic **before** you run `import tensorflow`."
      ]
    },
    {
      "cell_type": "code",
      "metadata": {
        "colab_type": "code",
        "id": "fu8bUU__oa7h",
        "colab": {
          "base_uri": "https://localhost:8080/",
          "height": 35
        },
        "outputId": "04efb9a5-4618-4cf1-bb80-444a9145c345"
      },
      "source": [
        "%tensorflow_version 2.x"
      ],
      "execution_count": 1,
      "outputs": [
        {
          "output_type": "stream",
          "text": [
            "TensorFlow 2.x selected.\n"
          ],
          "name": "stdout"
        }
      ]
    },
    {
      "cell_type": "markdown",
      "metadata": {
        "colab_type": "text",
        "id": "bLz1Ckvfvn6D"
      },
      "source": [
        "### Import TensorFlow\n",
        "Once you have specified a version via this magic, you can run `import tensorflow` as normal and verify which version was imported as follows:"
      ]
    },
    {
      "cell_type": "code",
      "metadata": {
        "colab_type": "code",
        "id": "CWrzVTLOvn6M",
        "colab": {
          "base_uri": "https://localhost:8080/",
          "height": 35
        },
        "outputId": "603ba670-247e-4c3d-ccc0-6fef1d655cbf"
      },
      "source": [
        "import tensorflow as tf\n",
        "print(tf.__version__)"
      ],
      "execution_count": 2,
      "outputs": [
        {
          "output_type": "stream",
          "text": [
            "2.0.0-rc2\n"
          ],
          "name": "stdout"
        }
      ]
    },
    {
      "cell_type": "markdown",
      "metadata": {
        "id": "_uYeJgkNuXNC",
        "colab_type": "text"
      },
      "source": [
        "### Set random seed"
      ]
    },
    {
      "cell_type": "code",
      "metadata": {
        "id": "lcASNsewsfQX",
        "colab_type": "code",
        "colab": {}
      },
      "source": [
        "tf.random.set_seed(42)"
      ],
      "execution_count": 0,
      "outputs": []
    },
    {
      "cell_type": "markdown",
      "metadata": {
        "id": "5-vVQBBqg7DI",
        "colab_type": "text"
      },
      "source": [
        "## Question 1"
      ]
    },
    {
      "cell_type": "markdown",
      "metadata": {
        "id": "kE0EDKvQhEIe",
        "colab_type": "text"
      },
      "source": [
        "### Import dataset\n",
        "- Import iris dataset\n",
        "- Import the dataset using sklearn library"
      ]
    },
    {
      "cell_type": "code",
      "metadata": {
        "id": "IOOWpD26Haq3",
        "colab_type": "code",
        "colab": {}
      },
      "source": [
        "from sklearn.datasets import load_iris\n",
        "iris = load_iris()\n",
        "\n",
        "#from sklearn import datasets\n",
        "#data = datasets.load_iris"
      ],
      "execution_count": 0,
      "outputs": []
    },
    {
      "cell_type": "markdown",
      "metadata": {
        "id": "ta8YqInTh5v5",
        "colab_type": "text"
      },
      "source": [
        "## Question 2"
      ]
    },
    {
      "cell_type": "markdown",
      "metadata": {
        "id": "HERt3drbhX0i",
        "colab_type": "text"
      },
      "source": [
        "### Get features and label from the dataset in separate variable\n",
        "- you can get the features using .data method\n",
        "- you can get the features using .target method"
      ]
    },
    {
      "cell_type": "code",
      "metadata": {
        "id": "0cV-_qHAHyvE",
        "colab_type": "code",
        "colab": {}
      },
      "source": [
        "#(trainX, trainY),(testX, testY) = tf.keras.datasets.load_iris.load_data()\n",
        "X = iris.data\n",
        "y = iris.target\n"
      ],
      "execution_count": 0,
      "outputs": []
    },
    {
      "cell_type": "markdown",
      "metadata": {
        "id": "Qg1A2lkUjFak",
        "colab_type": "text"
      },
      "source": [
        "## Question 3"
      ]
    },
    {
      "cell_type": "markdown",
      "metadata": {
        "colab_type": "text",
        "id": "3YErwYLCH0N_"
      },
      "source": [
        "### Create train and test data\n",
        "- use train_test_split to get train and test set\n",
        "- set a random_state\n",
        "- test_size: 0.25"
      ]
    },
    {
      "cell_type": "code",
      "metadata": {
        "id": "TYKNJL85h7pQ",
        "colab_type": "code",
        "colab": {}
      },
      "source": [
        "from sklearn.model_selection import train_test_split\n",
        "#from sklearn.model_selection import StratifiedShuffleSplit\n",
        "train_set, test_set, train_labels, test_labels = train_test_split(X, y, test_size=0.25, random_state=0)\n",
        "\n"
      ],
      "execution_count": 0,
      "outputs": []
    },
    {
      "cell_type": "code",
      "metadata": {
        "id": "oGU5u25AimZx",
        "colab_type": "code",
        "colab": {
          "base_uri": "https://localhost:8080/",
          "height": 35
        },
        "outputId": "d4e3b51b-39ba-42f9-e570-ce57b034c677"
      },
      "source": [
        "train_set.shape"
      ],
      "execution_count": 85,
      "outputs": [
        {
          "output_type": "execute_result",
          "data": {
            "text/plain": [
              "(112, 4)"
            ]
          },
          "metadata": {
            "tags": []
          },
          "execution_count": 85
        }
      ]
    },
    {
      "cell_type": "code",
      "metadata": {
        "id": "JjSQ5w9uim0f",
        "colab_type": "code",
        "colab": {
          "base_uri": "https://localhost:8080/",
          "height": 35
        },
        "outputId": "d3ee3db2-3dda-4331-9d99-9dda6fc97d9f"
      },
      "source": [
        "train_labels[0]"
      ],
      "execution_count": 86,
      "outputs": [
        {
          "output_type": "execute_result",
          "data": {
            "text/plain": [
              "1"
            ]
          },
          "metadata": {
            "tags": []
          },
          "execution_count": 86
        }
      ]
    },
    {
      "cell_type": "code",
      "metadata": {
        "id": "oWZTlZ4zk5Lf",
        "colab_type": "code",
        "colab": {
          "base_uri": "https://localhost:8080/",
          "height": 35
        },
        "outputId": "d14d83aa-9edf-401d-d319-e76f03e15592"
      },
      "source": [
        "iris.target_names"
      ],
      "execution_count": 87,
      "outputs": [
        {
          "output_type": "execute_result",
          "data": {
            "text/plain": [
              "array(['setosa', 'versicolor', 'virginica'], dtype='<U10')"
            ]
          },
          "metadata": {
            "tags": []
          },
          "execution_count": 87
        }
      ]
    },
    {
      "cell_type": "code",
      "metadata": {
        "id": "68OBu1b6k-fz",
        "colab_type": "code",
        "colab": {
          "base_uri": "https://localhost:8080/",
          "height": 87
        },
        "outputId": "5619ab04-1c95-490d-cfef-c99493e2c41c"
      },
      "source": [
        "iris.feature_names"
      ],
      "execution_count": 37,
      "outputs": [
        {
          "output_type": "execute_result",
          "data": {
            "text/plain": [
              "['sepal length (cm)',\n",
              " 'sepal width (cm)',\n",
              " 'petal length (cm)',\n",
              " 'petal width (cm)']"
            ]
          },
          "metadata": {
            "tags": []
          },
          "execution_count": 37
        }
      ]
    },
    {
      "cell_type": "markdown",
      "metadata": {
        "id": "g0KVP17Ozaix",
        "colab_type": "text"
      },
      "source": [
        "## Question 4"
      ]
    },
    {
      "cell_type": "markdown",
      "metadata": {
        "id": "SIjqxbhWv1zv",
        "colab_type": "text"
      },
      "source": [
        "### One-hot encode the labels\n",
        "- convert class vectors (integers) to binary class matrix\n",
        "- convert labels\n",
        "- number of classes: 3\n",
        "- we are doing this to use categorical_crossentropy as loss"
      ]
    },
    {
      "cell_type": "code",
      "metadata": {
        "colab_type": "code",
        "id": "R9vv-_gpyLY9",
        "colab": {}
      },
      "source": [
        "train_labels = tf.keras.utils.to_categorical(train_labels, num_classes=3)\n",
        "test_labels = tf.keras.utils.to_categorical(test_labels, num_classes=3)"
      ],
      "execution_count": 0,
      "outputs": []
    },
    {
      "cell_type": "code",
      "metadata": {
        "id": "R7mpFDVmj1gH",
        "colab_type": "code",
        "colab": {
          "base_uri": "https://localhost:8080/",
          "height": 35
        },
        "outputId": "d37ae515-47b1-4aea-c496-668d2ba40e79"
      },
      "source": [
        "train_labels[0]"
      ],
      "execution_count": 89,
      "outputs": [
        {
          "output_type": "execute_result",
          "data": {
            "text/plain": [
              "array([0., 1., 0.], dtype=float32)"
            ]
          },
          "metadata": {
            "tags": []
          },
          "execution_count": 89
        }
      ]
    },
    {
      "cell_type": "markdown",
      "metadata": {
        "colab_type": "text",
        "id": "ovjLyYzWkO9s"
      },
      "source": [
        "## Question 5"
      ]
    },
    {
      "cell_type": "markdown",
      "metadata": {
        "id": "hbIFzoPNSyYo",
        "colab_type": "text"
      },
      "source": [
        "### Initialize a sequential model\n",
        "- Define a sequential model"
      ]
    },
    {
      "cell_type": "code",
      "metadata": {
        "id": "ODC_pxLZqIoS",
        "colab_type": "code",
        "colab": {}
      },
      "source": [
        "from sklearn.preprocessing import Normalizer\n",
        "transformer = Normalizer()\n",
        "train_set = transformer.fit_transform(train_set)"
      ],
      "execution_count": 0,
      "outputs": []
    },
    {
      "cell_type": "code",
      "metadata": {
        "id": "YJZ4UnD5qKwG",
        "colab_type": "code",
        "colab": {}
      },
      "source": [
        "model = tf.keras.models.Sequential()"
      ],
      "execution_count": 0,
      "outputs": []
    },
    {
      "cell_type": "markdown",
      "metadata": {
        "colab_type": "text",
        "id": "dGMy999vlacX"
      },
      "source": [
        "## Question 6"
      ]
    },
    {
      "cell_type": "markdown",
      "metadata": {
        "id": "72ibK5Jxm8iL",
        "colab_type": "text"
      },
      "source": [
        "### Add a layer\n",
        "- Use Dense Layer  with input shape of 4 (according to the feature set) and number of outputs set to 3\n",
        "- Apply Softmax on Dense Layer outputs"
      ]
    },
    {
      "cell_type": "code",
      "metadata": {
        "id": "c8IISka3lvsL",
        "colab_type": "code",
        "colab": {}
      },
      "source": [
        "model.add(tf.keras.layers.Dense(3, input_shape=(4,),activation='softmax'))"
      ],
      "execution_count": 0,
      "outputs": []
    },
    {
      "cell_type": "markdown",
      "metadata": {
        "id": "i4uiTH8plmNX",
        "colab_type": "text"
      },
      "source": [
        "## Question 7"
      ]
    },
    {
      "cell_type": "markdown",
      "metadata": {
        "id": "yJL8n8vcSyYz",
        "colab_type": "text"
      },
      "source": [
        "### Compile the model\n",
        "- Use SGD as Optimizer\n",
        "- Use categorical_crossentropy as loss function\n",
        "- Use accuracy as metrics"
      ]
    },
    {
      "cell_type": "code",
      "metadata": {
        "id": "Tc_-fjIEk1ve",
        "colab_type": "code",
        "colab": {}
      },
      "source": [
        "model.compile(optimizer='sgd', loss='categorical_crossentropy', \n",
        "              metrics=['accuracy'])"
      ],
      "execution_count": 0,
      "outputs": []
    },
    {
      "cell_type": "markdown",
      "metadata": {
        "colab_type": "text",
        "id": "sihIGbRll_jT"
      },
      "source": [
        "## Question 8"
      ]
    },
    {
      "cell_type": "markdown",
      "metadata": {
        "id": "54ZZCfNGlu0i",
        "colab_type": "text"
      },
      "source": [
        "### Summarize the model\n",
        "- Check model layers\n",
        "- Understand number of trainable parameters"
      ]
    },
    {
      "cell_type": "code",
      "metadata": {
        "id": "elER3F_4ln8n",
        "colab_type": "code",
        "colab": {
          "base_uri": "https://localhost:8080/",
          "height": 191
        },
        "outputId": "0b1164d8-2617-48de-f74f-e0dcb07382c2"
      },
      "source": [
        "model.summary()"
      ],
      "execution_count": 103,
      "outputs": [
        {
          "output_type": "stream",
          "text": [
            "Model: \"sequential_4\"\n",
            "_________________________________________________________________\n",
            "Layer (type)                 Output Shape              Param #   \n",
            "=================================================================\n",
            "dense_5 (Dense)              (None, 3)                 15        \n",
            "=================================================================\n",
            "Total params: 15\n",
            "Trainable params: 15\n",
            "Non-trainable params: 0\n",
            "_________________________________________________________________\n"
          ],
          "name": "stdout"
        }
      ]
    },
    {
      "cell_type": "markdown",
      "metadata": {
        "colab_type": "text",
        "id": "2PiP7j3Vmj4p"
      },
      "source": [
        "## Question 9"
      ]
    },
    {
      "cell_type": "markdown",
      "metadata": {
        "id": "rWdbfFCXmCHt",
        "colab_type": "text"
      },
      "source": [
        "### Fit the model\n",
        "- Give train data as training features and labels\n",
        "- Epochs: 100\n",
        "- Give validation data as testing features and labels"
      ]
    },
    {
      "cell_type": "code",
      "metadata": {
        "id": "cO1c-5tjmBVZ",
        "colab_type": "code",
        "colab": {
          "base_uri": "https://localhost:8080/",
          "height": 1000
        },
        "outputId": "b533949b-f28d-4df8-891f-6fc91e58bcf5"
      },
      "source": [
        "model.fit(train_set,train_labels,          \n",
        "          validation_data=(test_set,test_labels),\n",
        "          epochs=100)"
      ],
      "execution_count": 106,
      "outputs": [
        {
          "output_type": "stream",
          "text": [
            "Train on 112 samples, validate on 38 samples\n",
            "Epoch 1/100\n",
            "112/112 [==============================] - 0s 273us/sample - loss: 1.0233 - accuracy: 0.6964 - val_loss: 1.1310 - val_accuracy: 0.5000\n",
            "Epoch 2/100\n",
            "112/112 [==============================] - 0s 216us/sample - loss: 1.0228 - accuracy: 0.6964 - val_loss: 1.1267 - val_accuracy: 0.5000\n",
            "Epoch 3/100\n",
            "112/112 [==============================] - 0s 256us/sample - loss: 1.0223 - accuracy: 0.6964 - val_loss: 1.1258 - val_accuracy: 0.5000\n",
            "Epoch 4/100\n",
            "112/112 [==============================] - 0s 188us/sample - loss: 1.0218 - accuracy: 0.6964 - val_loss: 1.1228 - val_accuracy: 0.5000\n",
            "Epoch 5/100\n",
            "112/112 [==============================] - 0s 209us/sample - loss: 1.0215 - accuracy: 0.6964 - val_loss: 1.1184 - val_accuracy: 0.5000\n",
            "Epoch 6/100\n",
            "112/112 [==============================] - 0s 210us/sample - loss: 1.0209 - accuracy: 0.6964 - val_loss: 1.1122 - val_accuracy: 0.4737\n",
            "Epoch 7/100\n",
            "112/112 [==============================] - 0s 208us/sample - loss: 1.0205 - accuracy: 0.6964 - val_loss: 1.1114 - val_accuracy: 0.5000\n",
            "Epoch 8/100\n",
            "112/112 [==============================] - 0s 215us/sample - loss: 1.0201 - accuracy: 0.6964 - val_loss: 1.1109 - val_accuracy: 0.5000\n",
            "Epoch 9/100\n",
            "112/112 [==============================] - 0s 203us/sample - loss: 1.0196 - accuracy: 0.6964 - val_loss: 1.1097 - val_accuracy: 0.5000\n",
            "Epoch 10/100\n",
            "112/112 [==============================] - 0s 225us/sample - loss: 1.0190 - accuracy: 0.6964 - val_loss: 1.1081 - val_accuracy: 0.5000\n",
            "Epoch 11/100\n",
            "112/112 [==============================] - 0s 217us/sample - loss: 1.0186 - accuracy: 0.6964 - val_loss: 1.1051 - val_accuracy: 0.5000\n",
            "Epoch 12/100\n",
            "112/112 [==============================] - 0s 222us/sample - loss: 1.0180 - accuracy: 0.6964 - val_loss: 1.1030 - val_accuracy: 0.5000\n",
            "Epoch 13/100\n",
            "112/112 [==============================] - 0s 225us/sample - loss: 1.0176 - accuracy: 0.6964 - val_loss: 1.1029 - val_accuracy: 0.5000\n",
            "Epoch 14/100\n",
            "112/112 [==============================] - 0s 216us/sample - loss: 1.0172 - accuracy: 0.6964 - val_loss: 1.0983 - val_accuracy: 0.5000\n",
            "Epoch 15/100\n",
            "112/112 [==============================] - 0s 242us/sample - loss: 1.0167 - accuracy: 0.6964 - val_loss: 1.0982 - val_accuracy: 0.5000\n",
            "Epoch 16/100\n",
            "112/112 [==============================] - 0s 217us/sample - loss: 1.0162 - accuracy: 0.6964 - val_loss: 1.0961 - val_accuracy: 0.5000\n",
            "Epoch 17/100\n",
            "112/112 [==============================] - 0s 214us/sample - loss: 1.0157 - accuracy: 0.6964 - val_loss: 1.0961 - val_accuracy: 0.5000\n",
            "Epoch 18/100\n",
            "112/112 [==============================] - 0s 189us/sample - loss: 1.0152 - accuracy: 0.6964 - val_loss: 1.0909 - val_accuracy: 0.5000\n",
            "Epoch 19/100\n",
            "112/112 [==============================] - 0s 220us/sample - loss: 1.0148 - accuracy: 0.6964 - val_loss: 1.0880 - val_accuracy: 0.5000\n",
            "Epoch 20/100\n",
            "112/112 [==============================] - 0s 194us/sample - loss: 1.0143 - accuracy: 0.6964 - val_loss: 1.0864 - val_accuracy: 0.5000\n",
            "Epoch 21/100\n",
            "112/112 [==============================] - 0s 205us/sample - loss: 1.0139 - accuracy: 0.6964 - val_loss: 1.0871 - val_accuracy: 0.5000\n",
            "Epoch 22/100\n",
            "112/112 [==============================] - 0s 195us/sample - loss: 1.0133 - accuracy: 0.6964 - val_loss: 1.0839 - val_accuracy: 0.5000\n",
            "Epoch 23/100\n",
            "112/112 [==============================] - 0s 204us/sample - loss: 1.0130 - accuracy: 0.6964 - val_loss: 1.0817 - val_accuracy: 0.5000\n",
            "Epoch 24/100\n",
            "112/112 [==============================] - 0s 230us/sample - loss: 1.0125 - accuracy: 0.6964 - val_loss: 1.0734 - val_accuracy: 0.5263\n",
            "Epoch 25/100\n",
            "112/112 [==============================] - 0s 227us/sample - loss: 1.0120 - accuracy: 0.6964 - val_loss: 1.0740 - val_accuracy: 0.5263\n",
            "Epoch 26/100\n",
            "112/112 [==============================] - 0s 198us/sample - loss: 1.0115 - accuracy: 0.6964 - val_loss: 1.0708 - val_accuracy: 0.5263\n",
            "Epoch 27/100\n",
            "112/112 [==============================] - 0s 222us/sample - loss: 1.0110 - accuracy: 0.6964 - val_loss: 1.0674 - val_accuracy: 0.5263\n",
            "Epoch 28/100\n",
            "112/112 [==============================] - 0s 221us/sample - loss: 1.0106 - accuracy: 0.6964 - val_loss: 1.0689 - val_accuracy: 0.5263\n",
            "Epoch 29/100\n",
            "112/112 [==============================] - 0s 207us/sample - loss: 1.0101 - accuracy: 0.6964 - val_loss: 1.0685 - val_accuracy: 0.5263\n",
            "Epoch 30/100\n",
            "112/112 [==============================] - 0s 219us/sample - loss: 1.0095 - accuracy: 0.6964 - val_loss: 1.0669 - val_accuracy: 0.5263\n",
            "Epoch 31/100\n",
            "112/112 [==============================] - 0s 213us/sample - loss: 1.0092 - accuracy: 0.6964 - val_loss: 1.0662 - val_accuracy: 0.5263\n",
            "Epoch 32/100\n",
            "112/112 [==============================] - 0s 208us/sample - loss: 1.0088 - accuracy: 0.6964 - val_loss: 1.0633 - val_accuracy: 0.5263\n",
            "Epoch 33/100\n",
            "112/112 [==============================] - 0s 201us/sample - loss: 1.0083 - accuracy: 0.6964 - val_loss: 1.0610 - val_accuracy: 0.5263\n",
            "Epoch 34/100\n",
            "112/112 [==============================] - 0s 205us/sample - loss: 1.0077 - accuracy: 0.6964 - val_loss: 1.0576 - val_accuracy: 0.5263\n",
            "Epoch 35/100\n",
            "112/112 [==============================] - 0s 194us/sample - loss: 1.0075 - accuracy: 0.6964 - val_loss: 1.0517 - val_accuracy: 0.5263\n",
            "Epoch 36/100\n",
            "112/112 [==============================] - 0s 200us/sample - loss: 1.0069 - accuracy: 0.6964 - val_loss: 1.0511 - val_accuracy: 0.5263\n",
            "Epoch 37/100\n",
            "112/112 [==============================] - 0s 210us/sample - loss: 1.0065 - accuracy: 0.6964 - val_loss: 1.0464 - val_accuracy: 0.5263\n",
            "Epoch 38/100\n",
            "112/112 [==============================] - 0s 217us/sample - loss: 1.0060 - accuracy: 0.6964 - val_loss: 1.0441 - val_accuracy: 0.5263\n",
            "Epoch 39/100\n",
            "112/112 [==============================] - 0s 203us/sample - loss: 1.0059 - accuracy: 0.6964 - val_loss: 1.0474 - val_accuracy: 0.5263\n",
            "Epoch 40/100\n",
            "112/112 [==============================] - 0s 210us/sample - loss: 1.0052 - accuracy: 0.6964 - val_loss: 1.0475 - val_accuracy: 0.5263\n",
            "Epoch 41/100\n",
            "112/112 [==============================] - 0s 248us/sample - loss: 1.0046 - accuracy: 0.6964 - val_loss: 1.0476 - val_accuracy: 0.5263\n",
            "Epoch 42/100\n",
            "112/112 [==============================] - 0s 195us/sample - loss: 1.0043 - accuracy: 0.6964 - val_loss: 1.0442 - val_accuracy: 0.5263\n",
            "Epoch 43/100\n",
            "112/112 [==============================] - 0s 210us/sample - loss: 1.0036 - accuracy: 0.6964 - val_loss: 1.0418 - val_accuracy: 0.5263\n",
            "Epoch 44/100\n",
            "112/112 [==============================] - 0s 200us/sample - loss: 1.0033 - accuracy: 0.6964 - val_loss: 1.0416 - val_accuracy: 0.5263\n",
            "Epoch 45/100\n",
            "112/112 [==============================] - 0s 204us/sample - loss: 1.0030 - accuracy: 0.6964 - val_loss: 1.0371 - val_accuracy: 0.5263\n",
            "Epoch 46/100\n",
            "112/112 [==============================] - 0s 202us/sample - loss: 1.0024 - accuracy: 0.6964 - val_loss: 1.0374 - val_accuracy: 0.5263\n",
            "Epoch 47/100\n",
            "112/112 [==============================] - 0s 236us/sample - loss: 1.0019 - accuracy: 0.6964 - val_loss: 1.0353 - val_accuracy: 0.5263\n",
            "Epoch 48/100\n",
            "112/112 [==============================] - 0s 201us/sample - loss: 1.0015 - accuracy: 0.6964 - val_loss: 1.0323 - val_accuracy: 0.5263\n",
            "Epoch 49/100\n",
            "112/112 [==============================] - 0s 243us/sample - loss: 1.0009 - accuracy: 0.6964 - val_loss: 1.0267 - val_accuracy: 0.5263\n",
            "Epoch 50/100\n",
            "112/112 [==============================] - 0s 252us/sample - loss: 1.0005 - accuracy: 0.6964 - val_loss: 1.0248 - val_accuracy: 0.5263\n",
            "Epoch 51/100\n",
            "112/112 [==============================] - 0s 201us/sample - loss: 1.0003 - accuracy: 0.6964 - val_loss: 1.0237 - val_accuracy: 0.5263\n",
            "Epoch 52/100\n",
            "112/112 [==============================] - 0s 313us/sample - loss: 0.9995 - accuracy: 0.6964 - val_loss: 1.0229 - val_accuracy: 0.5263\n",
            "Epoch 53/100\n",
            "112/112 [==============================] - 0s 254us/sample - loss: 0.9992 - accuracy: 0.6964 - val_loss: 1.0236 - val_accuracy: 0.5263\n",
            "Epoch 54/100\n",
            "112/112 [==============================] - 0s 227us/sample - loss: 0.9988 - accuracy: 0.6964 - val_loss: 1.0195 - val_accuracy: 0.5263\n",
            "Epoch 55/100\n",
            "112/112 [==============================] - 0s 204us/sample - loss: 0.9983 - accuracy: 0.6964 - val_loss: 1.0194 - val_accuracy: 0.5263\n",
            "Epoch 56/100\n",
            "112/112 [==============================] - 0s 207us/sample - loss: 0.9978 - accuracy: 0.6964 - val_loss: 1.0174 - val_accuracy: 0.5263\n",
            "Epoch 57/100\n",
            "112/112 [==============================] - 0s 231us/sample - loss: 0.9973 - accuracy: 0.6964 - val_loss: 1.0150 - val_accuracy: 0.5263\n",
            "Epoch 58/100\n",
            "112/112 [==============================] - 0s 224us/sample - loss: 0.9968 - accuracy: 0.6964 - val_loss: 1.0119 - val_accuracy: 0.5263\n",
            "Epoch 59/100\n",
            "112/112 [==============================] - 0s 193us/sample - loss: 0.9967 - accuracy: 0.6964 - val_loss: 1.0056 - val_accuracy: 0.5263\n",
            "Epoch 60/100\n",
            "112/112 [==============================] - 0s 206us/sample - loss: 0.9960 - accuracy: 0.6964 - val_loss: 1.0060 - val_accuracy: 0.5263\n",
            "Epoch 61/100\n",
            "112/112 [==============================] - 0s 189us/sample - loss: 0.9956 - accuracy: 0.6964 - val_loss: 1.0010 - val_accuracy: 0.5263\n",
            "Epoch 62/100\n",
            "112/112 [==============================] - 0s 221us/sample - loss: 0.9951 - accuracy: 0.6964 - val_loss: 1.0001 - val_accuracy: 0.5263\n",
            "Epoch 63/100\n",
            "112/112 [==============================] - 0s 212us/sample - loss: 0.9948 - accuracy: 0.6964 - val_loss: 0.9986 - val_accuracy: 0.5263\n",
            "Epoch 64/100\n",
            "112/112 [==============================] - 0s 204us/sample - loss: 0.9943 - accuracy: 0.6964 - val_loss: 0.9969 - val_accuracy: 0.5263\n",
            "Epoch 65/100\n",
            "112/112 [==============================] - 0s 218us/sample - loss: 0.9937 - accuracy: 0.6964 - val_loss: 0.9961 - val_accuracy: 0.5263\n",
            "Epoch 66/100\n",
            "112/112 [==============================] - 0s 218us/sample - loss: 0.9933 - accuracy: 0.6964 - val_loss: 0.9943 - val_accuracy: 0.5263\n",
            "Epoch 67/100\n",
            "112/112 [==============================] - 0s 210us/sample - loss: 0.9929 - accuracy: 0.6964 - val_loss: 0.9926 - val_accuracy: 0.5263\n",
            "Epoch 68/100\n",
            "112/112 [==============================] - 0s 202us/sample - loss: 0.9924 - accuracy: 0.6964 - val_loss: 0.9897 - val_accuracy: 0.5263\n",
            "Epoch 69/100\n",
            "112/112 [==============================] - 0s 216us/sample - loss: 0.9920 - accuracy: 0.6964 - val_loss: 0.9871 - val_accuracy: 0.5263\n",
            "Epoch 70/100\n",
            "112/112 [==============================] - 0s 210us/sample - loss: 0.9915 - accuracy: 0.6964 - val_loss: 0.9865 - val_accuracy: 0.5263\n",
            "Epoch 71/100\n",
            "112/112 [==============================] - 0s 205us/sample - loss: 0.9911 - accuracy: 0.6964 - val_loss: 0.9840 - val_accuracy: 0.5263\n",
            "Epoch 72/100\n",
            "112/112 [==============================] - 0s 211us/sample - loss: 0.9906 - accuracy: 0.6964 - val_loss: 0.9814 - val_accuracy: 0.5263\n",
            "Epoch 73/100\n",
            "112/112 [==============================] - 0s 254us/sample - loss: 0.9902 - accuracy: 0.6964 - val_loss: 0.9808 - val_accuracy: 0.5263\n",
            "Epoch 74/100\n",
            "112/112 [==============================] - 0s 229us/sample - loss: 0.9898 - accuracy: 0.6964 - val_loss: 0.9813 - val_accuracy: 0.5263\n",
            "Epoch 75/100\n",
            "112/112 [==============================] - 0s 201us/sample - loss: 0.9893 - accuracy: 0.6964 - val_loss: 0.9820 - val_accuracy: 0.5263\n",
            "Epoch 76/100\n",
            "112/112 [==============================] - 0s 263us/sample - loss: 0.9889 - accuracy: 0.6964 - val_loss: 0.9813 - val_accuracy: 0.5263\n",
            "Epoch 77/100\n",
            "112/112 [==============================] - 0s 223us/sample - loss: 0.9884 - accuracy: 0.6964 - val_loss: 0.9795 - val_accuracy: 0.5263\n",
            "Epoch 78/100\n",
            "112/112 [==============================] - 0s 214us/sample - loss: 0.9880 - accuracy: 0.6964 - val_loss: 0.9799 - val_accuracy: 0.5263\n",
            "Epoch 79/100\n",
            "112/112 [==============================] - 0s 213us/sample - loss: 0.9875 - accuracy: 0.6964 - val_loss: 0.9794 - val_accuracy: 0.5263\n",
            "Epoch 80/100\n",
            "112/112 [==============================] - 0s 191us/sample - loss: 0.9872 - accuracy: 0.6964 - val_loss: 0.9732 - val_accuracy: 0.5263\n",
            "Epoch 81/100\n",
            "112/112 [==============================] - 0s 195us/sample - loss: 0.9867 - accuracy: 0.6964 - val_loss: 0.9738 - val_accuracy: 0.5263\n",
            "Epoch 82/100\n",
            "112/112 [==============================] - 0s 209us/sample - loss: 0.9864 - accuracy: 0.6964 - val_loss: 0.9722 - val_accuracy: 0.5263\n",
            "Epoch 83/100\n",
            "112/112 [==============================] - 0s 233us/sample - loss: 0.9859 - accuracy: 0.6964 - val_loss: 0.9727 - val_accuracy: 0.5263\n",
            "Epoch 84/100\n",
            "112/112 [==============================] - 0s 230us/sample - loss: 0.9856 - accuracy: 0.6964 - val_loss: 0.9723 - val_accuracy: 0.5263\n",
            "Epoch 85/100\n",
            "112/112 [==============================] - 0s 221us/sample - loss: 0.9850 - accuracy: 0.6964 - val_loss: 0.9705 - val_accuracy: 0.5263\n",
            "Epoch 86/100\n",
            "112/112 [==============================] - 0s 214us/sample - loss: 0.9845 - accuracy: 0.6964 - val_loss: 0.9710 - val_accuracy: 0.5263\n",
            "Epoch 87/100\n",
            "112/112 [==============================] - 0s 245us/sample - loss: 0.9842 - accuracy: 0.6964 - val_loss: 0.9715 - val_accuracy: 0.5526\n",
            "Epoch 88/100\n",
            "112/112 [==============================] - 0s 218us/sample - loss: 0.9837 - accuracy: 0.6964 - val_loss: 0.9687 - val_accuracy: 0.5526\n",
            "Epoch 89/100\n",
            "112/112 [==============================] - 0s 228us/sample - loss: 0.9834 - accuracy: 0.6964 - val_loss: 0.9669 - val_accuracy: 0.5526\n",
            "Epoch 90/100\n",
            "112/112 [==============================] - 0s 230us/sample - loss: 0.9827 - accuracy: 0.6964 - val_loss: 0.9653 - val_accuracy: 0.5526\n",
            "Epoch 91/100\n",
            "112/112 [==============================] - 0s 230us/sample - loss: 0.9825 - accuracy: 0.6964 - val_loss: 0.9670 - val_accuracy: 0.5526\n",
            "Epoch 92/100\n",
            "112/112 [==============================] - 0s 208us/sample - loss: 0.9819 - accuracy: 0.6964 - val_loss: 0.9652 - val_accuracy: 0.5526\n",
            "Epoch 93/100\n",
            "112/112 [==============================] - 0s 203us/sample - loss: 0.9815 - accuracy: 0.6964 - val_loss: 0.9612 - val_accuracy: 0.5526\n",
            "Epoch 94/100\n",
            "112/112 [==============================] - 0s 204us/sample - loss: 0.9811 - accuracy: 0.6964 - val_loss: 0.9553 - val_accuracy: 0.5526\n",
            "Epoch 95/100\n",
            "112/112 [==============================] - 0s 190us/sample - loss: 0.9806 - accuracy: 0.6964 - val_loss: 0.9549 - val_accuracy: 0.5526\n",
            "Epoch 96/100\n",
            "112/112 [==============================] - 0s 196us/sample - loss: 0.9802 - accuracy: 0.6964 - val_loss: 0.9556 - val_accuracy: 0.5526\n",
            "Epoch 97/100\n",
            "112/112 [==============================] - 0s 211us/sample - loss: 0.9799 - accuracy: 0.6964 - val_loss: 0.9552 - val_accuracy: 0.5526\n",
            "Epoch 98/100\n",
            "112/112 [==============================] - 0s 209us/sample - loss: 0.9794 - accuracy: 0.6964 - val_loss: 0.9568 - val_accuracy: 0.5526\n",
            "Epoch 99/100\n",
            "112/112 [==============================] - 0s 203us/sample - loss: 0.9788 - accuracy: 0.6964 - val_loss: 0.9563 - val_accuracy: 0.5526\n",
            "Epoch 100/100\n",
            "112/112 [==============================] - 0s 217us/sample - loss: 0.9785 - accuracy: 0.6964 - val_loss: 0.9536 - val_accuracy: 0.5526\n"
          ],
          "name": "stdout"
        },
        {
          "output_type": "execute_result",
          "data": {
            "text/plain": [
              "<tensorflow.python.keras.callbacks.History at 0x7f4b80de22e8>"
            ]
          },
          "metadata": {
            "tags": []
          },
          "execution_count": 106
        }
      ]
    },
    {
      "cell_type": "markdown",
      "metadata": {
        "id": "re9ItAR3yS3J",
        "colab_type": "text"
      },
      "source": [
        "## Question 10"
      ]
    },
    {
      "cell_type": "markdown",
      "metadata": {
        "id": "liw0IFf9yVqH",
        "colab_type": "text"
      },
      "source": [
        "### Make predictions\n",
        "- Predict labels on one row"
      ]
    },
    {
      "cell_type": "code",
      "metadata": {
        "id": "H5sBybi6mlLl",
        "colab_type": "code",
        "colab": {
          "base_uri": "https://localhost:8080/",
          "height": 35
        },
        "outputId": "9e63c133-be78-4a4d-8da5-ea63940c1993"
      },
      "source": [
        "model.input"
      ],
      "execution_count": 107,
      "outputs": [
        {
          "output_type": "execute_result",
          "data": {
            "text/plain": [
              "<tf.Tensor 'dense_5_input:0' shape=(None, 4) dtype=float32>"
            ]
          },
          "metadata": {
            "tags": []
          },
          "execution_count": 107
        }
      ]
    },
    {
      "cell_type": "code",
      "metadata": {
        "id": "ol9Ppb2TqwVT",
        "colab_type": "code",
        "colab": {
          "base_uri": "https://localhost:8080/",
          "height": 35
        },
        "outputId": "b5e8b6a9-7a29-4bbb-b2cb-46b69debe847"
      },
      "source": [
        "input_data = np.expand_dims(test_set[0], axis=0)\n",
        "print(input_data.shape)\n"
      ],
      "execution_count": 112,
      "outputs": [
        {
          "output_type": "stream",
          "text": [
            "(1, 4)\n"
          ],
          "name": "stdout"
        }
      ]
    },
    {
      "cell_type": "code",
      "metadata": {
        "id": "WtKntiPrqwoU",
        "colab_type": "code",
        "colab": {
          "base_uri": "https://localhost:8080/",
          "height": 35
        },
        "outputId": "53ae559e-5c96-41df-9a12-0737d1c9e8bb"
      },
      "source": [
        "pred = model.predict(input_data)\n",
        "pred"
      ],
      "execution_count": 113,
      "outputs": [
        {
          "output_type": "execute_result",
          "data": {
            "text/plain": [
              "array([[0.08158981, 0.49483126, 0.42357898]], dtype=float32)"
            ]
          },
          "metadata": {
            "tags": []
          },
          "execution_count": 113
        }
      ]
    },
    {
      "cell_type": "code",
      "metadata": {
        "id": "DHcNDT2-sYmG",
        "colab_type": "code",
        "colab": {
          "base_uri": "https://localhost:8080/",
          "height": 35
        },
        "outputId": "ce856e88-c0f9-48f2-d603-3cc23f73f951"
      },
      "source": [
        "pred[0]"
      ],
      "execution_count": 114,
      "outputs": [
        {
          "output_type": "execute_result",
          "data": {
            "text/plain": [
              "array([0.08158981, 0.49483126, 0.42357898], dtype=float32)"
            ]
          },
          "metadata": {
            "tags": []
          },
          "execution_count": 114
        }
      ]
    },
    {
      "cell_type": "markdown",
      "metadata": {
        "id": "hSUgMq3m0bG7",
        "colab_type": "text"
      },
      "source": [
        "### Compare the prediction with actual label\n",
        "- Print the same row as done in the previous step but of actual labels"
      ]
    },
    {
      "cell_type": "code",
      "metadata": {
        "id": "xsV68NTtuekH",
        "colab_type": "code",
        "colab": {
          "base_uri": "https://localhost:8080/",
          "height": 35
        },
        "outputId": "63f5e97a-cbf7-4f3a-a941-e71db0acb95e"
      },
      "source": [
        "test_labels[0]"
      ],
      "execution_count": 120,
      "outputs": [
        {
          "output_type": "execute_result",
          "data": {
            "text/plain": [
              "array([0., 0., 1.], dtype=float32)"
            ]
          },
          "metadata": {
            "tags": []
          },
          "execution_count": 120
        }
      ]
    },
    {
      "cell_type": "markdown",
      "metadata": {
        "id": "FrTKwbgE7NFT",
        "colab_type": "text"
      },
      "source": [
        "\n",
        "\n",
        "---\n",
        "\n"
      ]
    },
    {
      "cell_type": "markdown",
      "metadata": {
        "id": "a1UBYPNp5Tn1",
        "colab_type": "text"
      },
      "source": [
        "# Stock prices dataset\n",
        "The data is of tock exchange's stock listings for each trading day of 2010 to 2016.\n",
        "\n",
        "## Description\n",
        "A brief description of columns.\n",
        "- open: The opening market price of the equity symbol on the date\n",
        "- high: The highest market price of the equity symbol on the date\n",
        "- low: The lowest recorded market price of the equity symbol on the date\n",
        "- close: The closing recorded price of the equity symbol on the date\n",
        "- symbol: Symbol of the listed company\n",
        "- volume: Total traded volume of the equity symbol on the date\n",
        "- date: Date of record"
      ]
    },
    {
      "cell_type": "markdown",
      "metadata": {
        "colab_type": "text",
        "id": "ctH_ZW5g-M3g"
      },
      "source": [
        "### Specifying the TensorFlow version\n",
        "Running `import tensorflow` will import the default version (currently 1.x). You can use 2.x by running a cell with the `tensorflow_version` magic **before** you run `import tensorflow`."
      ]
    },
    {
      "cell_type": "code",
      "metadata": {
        "colab_type": "code",
        "id": "vQbdODpH-M3r",
        "colab": {}
      },
      "source": [
        "%tensorflow_version 2.x"
      ],
      "execution_count": 0,
      "outputs": []
    },
    {
      "cell_type": "markdown",
      "metadata": {
        "colab_type": "text",
        "id": "nFQWH1tj-M38"
      },
      "source": [
        "### Import TensorFlow\n",
        "Once you have specified a version via this magic, you can run `import tensorflow` as normal and verify which version was imported as follows:"
      ]
    },
    {
      "cell_type": "code",
      "metadata": {
        "colab_type": "code",
        "id": "Ho5n-xhd-M3_",
        "colab": {}
      },
      "source": [
        "import tensorflow as tf\n",
        "print(tf.__version__)"
      ],
      "execution_count": 0,
      "outputs": []
    },
    {
      "cell_type": "markdown",
      "metadata": {
        "colab_type": "text",
        "id": "tgkl0qu6-M4F"
      },
      "source": [
        "### Set random seed"
      ]
    },
    {
      "cell_type": "code",
      "metadata": {
        "colab_type": "code",
        "id": "TKgTyuA3-M4G",
        "colab": {}
      },
      "source": [
        "tf.random.set_seed(42)"
      ],
      "execution_count": 0,
      "outputs": []
    },
    {
      "cell_type": "markdown",
      "metadata": {
        "id": "_88voqAH-O6J",
        "colab_type": "text"
      },
      "source": [
        "## Question 1"
      ]
    },
    {
      "cell_type": "markdown",
      "metadata": {
        "id": "dRHCeJqP-evf",
        "colab_type": "text"
      },
      "source": [
        "### Load the data\n",
        "- load the csv file and read it using pandas\n",
        "- file name is prices.csv"
      ]
    },
    {
      "cell_type": "code",
      "metadata": {
        "id": "cKVH5v7r-RmC",
        "colab_type": "code",
        "colab": {}
      },
      "source": [
        "# run this cell to upload file if you are using google colab\n",
        "from google.colab import files\n",
        "files.upload()"
      ],
      "execution_count": 0,
      "outputs": []
    },
    {
      "cell_type": "code",
      "metadata": {
        "id": "-gDC6cSW_FSK",
        "colab_type": "code",
        "colab": {
          "base_uri": "https://localhost:8080/",
          "height": 124
        },
        "outputId": "2fcbc024-207d-4157-99f6-c6cf2d39d963"
      },
      "source": [
        "import os\n",
        "from google.colab import drive\n",
        "drive.mount('/content/gdrive')\n",
        "\n",
        "os.chdir('/content/gdrive/My Drive/Neural Network')"
      ],
      "execution_count": 122,
      "outputs": [
        {
          "output_type": "stream",
          "text": [
            "Go to this URL in a browser: https://accounts.google.com/o/oauth2/auth?client_id=947318989803-6bn6qk8qdgf4n4g3pfee6491hc0brc4i.apps.googleusercontent.com&redirect_uri=urn%3Aietf%3Awg%3Aoauth%3A2.0%3Aoob&scope=email%20https%3A%2F%2Fwww.googleapis.com%2Fauth%2Fdocs.test%20https%3A%2F%2Fwww.googleapis.com%2Fauth%2Fdrive%20https%3A%2F%2Fwww.googleapis.com%2Fauth%2Fdrive.photos.readonly%20https%3A%2F%2Fwww.googleapis.com%2Fauth%2Fpeopleapi.readonly&response_type=code\n",
            "\n",
            "Enter your authorization code:\n",
            "··········\n",
            "Mounted at /content/gdrive\n"
          ],
          "name": "stdout"
        }
      ]
    },
    {
      "cell_type": "code",
      "metadata": {
        "id": "uSwWH9krv5NO",
        "colab_type": "code",
        "colab": {}
      },
      "source": [
        "import pandas as pd\n",
        "price = pd.read_csv(\"prices.csv\")"
      ],
      "execution_count": 0,
      "outputs": []
    },
    {
      "cell_type": "code",
      "metadata": {
        "id": "ZkGFYH0tv5tD",
        "colab_type": "code",
        "colab": {
          "base_uri": "https://localhost:8080/",
          "height": 202
        },
        "outputId": "342adb94-e0bb-4d07-edb3-85b83711f9d5"
      },
      "source": [
        "price.head(5)"
      ],
      "execution_count": 203,
      "outputs": [
        {
          "output_type": "execute_result",
          "data": {
            "text/html": [
              "<div>\n",
              "<style scoped>\n",
              "    .dataframe tbody tr th:only-of-type {\n",
              "        vertical-align: middle;\n",
              "    }\n",
              "\n",
              "    .dataframe tbody tr th {\n",
              "        vertical-align: top;\n",
              "    }\n",
              "\n",
              "    .dataframe thead th {\n",
              "        text-align: right;\n",
              "    }\n",
              "</style>\n",
              "<table border=\"1\" class=\"dataframe\">\n",
              "  <thead>\n",
              "    <tr style=\"text-align: right;\">\n",
              "      <th></th>\n",
              "      <th>date</th>\n",
              "      <th>symbol</th>\n",
              "      <th>open</th>\n",
              "      <th>close</th>\n",
              "      <th>low</th>\n",
              "      <th>high</th>\n",
              "      <th>volume</th>\n",
              "    </tr>\n",
              "  </thead>\n",
              "  <tbody>\n",
              "    <tr>\n",
              "      <th>0</th>\n",
              "      <td>2016-01-05 00:00:00</td>\n",
              "      <td>WLTW</td>\n",
              "      <td>123.430000</td>\n",
              "      <td>125.839996</td>\n",
              "      <td>122.309998</td>\n",
              "      <td>126.250000</td>\n",
              "      <td>2163600.0</td>\n",
              "    </tr>\n",
              "    <tr>\n",
              "      <th>1</th>\n",
              "      <td>2016-01-06 00:00:00</td>\n",
              "      <td>WLTW</td>\n",
              "      <td>125.239998</td>\n",
              "      <td>119.980003</td>\n",
              "      <td>119.940002</td>\n",
              "      <td>125.540001</td>\n",
              "      <td>2386400.0</td>\n",
              "    </tr>\n",
              "    <tr>\n",
              "      <th>2</th>\n",
              "      <td>2016-01-07 00:00:00</td>\n",
              "      <td>WLTW</td>\n",
              "      <td>116.379997</td>\n",
              "      <td>114.949997</td>\n",
              "      <td>114.930000</td>\n",
              "      <td>119.739998</td>\n",
              "      <td>2489500.0</td>\n",
              "    </tr>\n",
              "    <tr>\n",
              "      <th>3</th>\n",
              "      <td>2016-01-08 00:00:00</td>\n",
              "      <td>WLTW</td>\n",
              "      <td>115.480003</td>\n",
              "      <td>116.620003</td>\n",
              "      <td>113.500000</td>\n",
              "      <td>117.440002</td>\n",
              "      <td>2006300.0</td>\n",
              "    </tr>\n",
              "    <tr>\n",
              "      <th>4</th>\n",
              "      <td>2016-01-11 00:00:00</td>\n",
              "      <td>WLTW</td>\n",
              "      <td>117.010002</td>\n",
              "      <td>114.970001</td>\n",
              "      <td>114.089996</td>\n",
              "      <td>117.330002</td>\n",
              "      <td>1408600.0</td>\n",
              "    </tr>\n",
              "  </tbody>\n",
              "</table>\n",
              "</div>"
            ],
            "text/plain": [
              "                  date symbol        open  ...         low        high     volume\n",
              "0  2016-01-05 00:00:00   WLTW  123.430000  ...  122.309998  126.250000  2163600.0\n",
              "1  2016-01-06 00:00:00   WLTW  125.239998  ...  119.940002  125.540001  2386400.0\n",
              "2  2016-01-07 00:00:00   WLTW  116.379997  ...  114.930000  119.739998  2489500.0\n",
              "3  2016-01-08 00:00:00   WLTW  115.480003  ...  113.500000  117.440002  2006300.0\n",
              "4  2016-01-11 00:00:00   WLTW  117.010002  ...  114.089996  117.330002  1408600.0\n",
              "\n",
              "[5 rows x 7 columns]"
            ]
          },
          "metadata": {
            "tags": []
          },
          "execution_count": 203
        }
      ]
    },
    {
      "cell_type": "markdown",
      "metadata": {
        "id": "HlLKVPVH_BCT",
        "colab_type": "text"
      },
      "source": [
        "## Question 2"
      ]
    },
    {
      "cell_type": "markdown",
      "metadata": {
        "id": "9J4BlzVA_gZd",
        "colab_type": "text"
      },
      "source": [
        "### Drop columnns\n",
        "- drop \"date\" and \"symbol\" column from the data"
      ]
    },
    {
      "cell_type": "code",
      "metadata": {
        "id": "IKEK8aEE_Csx",
        "colab_type": "code",
        "colab": {
          "base_uri": "https://localhost:8080/",
          "height": 202
        },
        "outputId": "924ffe90-cfb1-49ef-ac89-65bdfcf5bc14"
      },
      "source": [
        "price = price.drop(columns=['date','symbol'])\n",
        "price.head(5)"
      ],
      "execution_count": 204,
      "outputs": [
        {
          "output_type": "execute_result",
          "data": {
            "text/html": [
              "<div>\n",
              "<style scoped>\n",
              "    .dataframe tbody tr th:only-of-type {\n",
              "        vertical-align: middle;\n",
              "    }\n",
              "\n",
              "    .dataframe tbody tr th {\n",
              "        vertical-align: top;\n",
              "    }\n",
              "\n",
              "    .dataframe thead th {\n",
              "        text-align: right;\n",
              "    }\n",
              "</style>\n",
              "<table border=\"1\" class=\"dataframe\">\n",
              "  <thead>\n",
              "    <tr style=\"text-align: right;\">\n",
              "      <th></th>\n",
              "      <th>open</th>\n",
              "      <th>close</th>\n",
              "      <th>low</th>\n",
              "      <th>high</th>\n",
              "      <th>volume</th>\n",
              "    </tr>\n",
              "  </thead>\n",
              "  <tbody>\n",
              "    <tr>\n",
              "      <th>0</th>\n",
              "      <td>123.430000</td>\n",
              "      <td>125.839996</td>\n",
              "      <td>122.309998</td>\n",
              "      <td>126.250000</td>\n",
              "      <td>2163600.0</td>\n",
              "    </tr>\n",
              "    <tr>\n",
              "      <th>1</th>\n",
              "      <td>125.239998</td>\n",
              "      <td>119.980003</td>\n",
              "      <td>119.940002</td>\n",
              "      <td>125.540001</td>\n",
              "      <td>2386400.0</td>\n",
              "    </tr>\n",
              "    <tr>\n",
              "      <th>2</th>\n",
              "      <td>116.379997</td>\n",
              "      <td>114.949997</td>\n",
              "      <td>114.930000</td>\n",
              "      <td>119.739998</td>\n",
              "      <td>2489500.0</td>\n",
              "    </tr>\n",
              "    <tr>\n",
              "      <th>3</th>\n",
              "      <td>115.480003</td>\n",
              "      <td>116.620003</td>\n",
              "      <td>113.500000</td>\n",
              "      <td>117.440002</td>\n",
              "      <td>2006300.0</td>\n",
              "    </tr>\n",
              "    <tr>\n",
              "      <th>4</th>\n",
              "      <td>117.010002</td>\n",
              "      <td>114.970001</td>\n",
              "      <td>114.089996</td>\n",
              "      <td>117.330002</td>\n",
              "      <td>1408600.0</td>\n",
              "    </tr>\n",
              "  </tbody>\n",
              "</table>\n",
              "</div>"
            ],
            "text/plain": [
              "         open       close         low        high     volume\n",
              "0  123.430000  125.839996  122.309998  126.250000  2163600.0\n",
              "1  125.239998  119.980003  119.940002  125.540001  2386400.0\n",
              "2  116.379997  114.949997  114.930000  119.739998  2489500.0\n",
              "3  115.480003  116.620003  113.500000  117.440002  2006300.0\n",
              "4  117.010002  114.970001  114.089996  117.330002  1408600.0"
            ]
          },
          "metadata": {
            "tags": []
          },
          "execution_count": 204
        }
      ]
    },
    {
      "cell_type": "markdown",
      "metadata": {
        "id": "cTPhO6v-AiZt",
        "colab_type": "text"
      },
      "source": [
        "## Question 3"
      ]
    },
    {
      "cell_type": "markdown",
      "metadata": {
        "id": "SsZXmF3NAkna",
        "colab_type": "text"
      },
      "source": [
        "### Take initial rows\n",
        "- Take first 1000 rows from the data\n",
        "- This step is done to make the execution faster"
      ]
    },
    {
      "cell_type": "code",
      "metadata": {
        "id": "aKs04iIHAjxN",
        "colab_type": "code",
        "colab": {
          "base_uri": "https://localhost:8080/",
          "height": 35
        },
        "outputId": "e0a9a7f6-bafa-4076-ca48-4e1654013842"
      },
      "source": [
        "price.shape"
      ],
      "execution_count": 205,
      "outputs": [
        {
          "output_type": "execute_result",
          "data": {
            "text/plain": [
              "(851264, 5)"
            ]
          },
          "metadata": {
            "tags": []
          },
          "execution_count": 205
        }
      ]
    },
    {
      "cell_type": "code",
      "metadata": {
        "id": "80EB9wPjy418",
        "colab_type": "code",
        "colab": {}
      },
      "source": [
        "price1 = price.head(1000)"
      ],
      "execution_count": 0,
      "outputs": []
    },
    {
      "cell_type": "code",
      "metadata": {
        "id": "VEmCaIgYxn0b",
        "colab_type": "code",
        "colab": {
          "base_uri": "https://localhost:8080/",
          "height": 35
        },
        "outputId": "6b4c0c06-a4ad-45c6-91cf-d90f8774bf75"
      },
      "source": [
        "price1.shape"
      ],
      "execution_count": 207,
      "outputs": [
        {
          "output_type": "execute_result",
          "data": {
            "text/plain": [
              "(1000, 5)"
            ]
          },
          "metadata": {
            "tags": []
          },
          "execution_count": 207
        }
      ]
    },
    {
      "cell_type": "markdown",
      "metadata": {
        "id": "6vGtnapgBIJm",
        "colab_type": "text"
      },
      "source": [
        "## Question 4"
      ]
    },
    {
      "cell_type": "markdown",
      "metadata": {
        "colab_type": "text",
        "id": "C8u_jlbABTip"
      },
      "source": [
        "### Get features and label from the dataset in separate variable\n",
        "- Take \"open\", \"close\", \"low\", \"high\" columns as features\n",
        "- Take \"volume\" column as label\n",
        "- Normalize label column by dividing it with 1000000"
      ]
    },
    {
      "cell_type": "code",
      "metadata": {
        "id": "xQjCMzUXBJbg",
        "colab_type": "code",
        "colab": {}
      },
      "source": [
        "array = price1.values\n",
        "X = array[:,0:4] \n",
        "y = array[:,4]   "
      ],
      "execution_count": 0,
      "outputs": []
    },
    {
      "cell_type": "code",
      "metadata": {
        "id": "KQVLdWq51WW_",
        "colab_type": "code",
        "colab": {}
      },
      "source": [
        "y = y/1000000"
      ],
      "execution_count": 0,
      "outputs": []
    },
    {
      "cell_type": "markdown",
      "metadata": {
        "id": "aTAKzlxZBz0z",
        "colab_type": "text"
      },
      "source": [
        "## Question 5"
      ]
    },
    {
      "cell_type": "markdown",
      "metadata": {
        "id": "IfY8Km1Zzyt2",
        "colab_type": "text"
      },
      "source": [
        "### Convert data\n",
        "- Convert features and labels to numpy array\n",
        "- Convert their data type to \"float32\""
      ]
    },
    {
      "cell_type": "code",
      "metadata": {
        "id": "Ko7nnQVbYENh",
        "colab_type": "code",
        "colab": {}
      },
      "source": [
        "X = np.array(X)"
      ],
      "execution_count": 0,
      "outputs": []
    },
    {
      "cell_type": "code",
      "metadata": {
        "id": "VD1lcxxN2bzR",
        "colab_type": "code",
        "colab": {}
      },
      "source": [
        "y = np.array(y)"
      ],
      "execution_count": 0,
      "outputs": []
    },
    {
      "cell_type": "code",
      "metadata": {
        "id": "l7ZmWNBC3CwL",
        "colab_type": "code",
        "colab": {}
      },
      "source": [
        "X = X.astype('float32')\n",
        "y = y.astype('float32')"
      ],
      "execution_count": 0,
      "outputs": []
    },
    {
      "cell_type": "markdown",
      "metadata": {
        "colab_type": "text",
        "id": "3TWpN0nVTpUx"
      },
      "source": [
        "## Question 6"
      ]
    },
    {
      "cell_type": "markdown",
      "metadata": {
        "id": "WQ1FKEs-4btX",
        "colab_type": "text"
      },
      "source": [
        "### Normalize data\n",
        "- Normalize features\n",
        "- Use tf.math.l2_normalize to normalize features\n",
        "- You can read more about it here https://www.tensorflow.org/api_docs/python/tf/math/l2_normalize"
      ]
    },
    {
      "cell_type": "code",
      "metadata": {
        "id": "V0Tfe00X78wB",
        "colab_type": "code",
        "colab": {
          "base_uri": "https://localhost:8080/",
          "height": 156
        },
        "outputId": "f9b94c41-4ae8-457c-b5b4-a631bbdadc77"
      },
      "source": [
        "tf.math.l2_normalize(\n",
        "    X,\n",
        "    axis=None,\n",
        "    epsilon=1e-12,\n",
        "    name=None\n",
        ")"
      ],
      "execution_count": 213,
      "outputs": [
        {
          "output_type": "execute_result",
          "data": {
            "text/plain": [
              "<tf.Tensor: id=56697, shape=(1000, 4), dtype=float32, numpy=\n",
              "array([[0.02202894, 0.02245906, 0.02182905, 0.02253223],\n",
              "       [0.02235197, 0.02141321, 0.02140607, 0.02240551],\n",
              "       [0.0207707 , 0.02051548, 0.02051192, 0.02137037],\n",
              "       ...,\n",
              "       [0.00505436, 0.00513467, 0.00499903, 0.00514181],\n",
              "       [0.00785282, 0.0079956 , 0.0078082 , 0.00799738],\n",
              "       [0.00643931, 0.00662849, 0.00642682, 0.00664455]], dtype=float32)>"
            ]
          },
          "metadata": {
            "tags": []
          },
          "execution_count": 213
        }
      ]
    },
    {
      "cell_type": "code",
      "metadata": {
        "id": "_4KW1Nuj6EW-",
        "colab_type": "code",
        "colab": {}
      },
      "source": [
        "from sklearn.model_selection import train_test_split\n",
        "train_set, test_set, train_labels, test_labels = train_test_split(X, y, test_size=0.25, random_state=0)"
      ],
      "execution_count": 0,
      "outputs": []
    },
    {
      "cell_type": "markdown",
      "metadata": {
        "colab_type": "text",
        "id": "wmXUGc2oTspa"
      },
      "source": [
        "## Question 7"
      ]
    },
    {
      "cell_type": "markdown",
      "metadata": {
        "id": "VJelDMpzxs0L",
        "colab_type": "text"
      },
      "source": [
        "### Define weight and bias\n",
        "- Initialize weight and bias with tf.zeros\n",
        "- tf.zeros is an initializer that generates tensors initialized to 0\n",
        "- Specify the value for shape"
      ]
    },
    {
      "cell_type": "code",
      "metadata": {
        "id": "8o9RPWVTxs0O",
        "colab_type": "code",
        "colab": {}
      },
      "source": [
        "import tensorflow as tf\n",
        "tf.__version__\n",
        "w = tf.zeros(shape=(4,1))\n",
        "b = tf.zeros(shape=(1))"
      ],
      "execution_count": 0,
      "outputs": []
    },
    {
      "cell_type": "markdown",
      "metadata": {
        "colab_type": "text",
        "id": "8a0wr94aTyjg"
      },
      "source": [
        "## Question 8"
      ]
    },
    {
      "cell_type": "markdown",
      "metadata": {
        "id": "zMXXYdOSxs0Q",
        "colab_type": "text"
      },
      "source": [
        "### Get prediction\n",
        "- Define a function to get prediction\n",
        "- Approach: prediction = (X * W) + b; here is X is features"
      ]
    },
    {
      "cell_type": "code",
      "metadata": {
        "id": "U8Cty1y0xs0S",
        "colab_type": "code",
        "colab": {}
      },
      "source": [
        "def prediction(x, w, b):\n",
        "    \n",
        "    xw_matmul = tf.matmul(x, w)\n",
        "    y = tf.add(xw_matmul, b)\n",
        "    \n",
        "    return y"
      ],
      "execution_count": 0,
      "outputs": []
    },
    {
      "cell_type": "markdown",
      "metadata": {
        "id": "lQmS3Tauxs0V",
        "colab_type": "text"
      },
      "source": [
        "### Calculate loss\n",
        "- Calculate loss using predictions\n",
        "- Define a function to calculate loss\n",
        "- We are calculating mean squared error"
      ]
    },
    {
      "cell_type": "code",
      "metadata": {
        "id": "-FRXmDd5xs0X",
        "colab_type": "code",
        "colab": {}
      },
      "source": [
        "def loss(y_actual, y_predicted):\n",
        "    \n",
        "    diff = y_actual - y_predicted\n",
        "    sqr = tf.square(diff)\n",
        "    avg = tf.reduce_mean(sqr)\n",
        "    \n",
        "    return avg"
      ],
      "execution_count": 0,
      "outputs": []
    },
    {
      "cell_type": "markdown",
      "metadata": {
        "colab_type": "text",
        "id": "ZbBpnOtfT0wd"
      },
      "source": [
        "## Question 9"
      ]
    },
    {
      "cell_type": "markdown",
      "metadata": {
        "id": "bkOzAUUsTmF_",
        "colab_type": "text"
      },
      "source": [
        "### Define a function to train the model\n",
        "1.   Record all the mathematical steps to calculate Loss\n",
        "2.   Calculate Gradients of Loss w.r.t weights and bias\n",
        "3.   Update Weights and Bias based on gradients and learning rate to minimize loss"
      ]
    },
    {
      "cell_type": "code",
      "metadata": {
        "id": "2R4uieGYLYtM",
        "colab_type": "code",
        "colab": {}
      },
      "source": [
        "def train(x, y_actual, w, b, learning_rate=0.01):\n",
        "    \n",
        "    #Record mathematical operations on 'tape' to calculate loss\n",
        "    with tf.GradientTape() as t:\n",
        "        \n",
        "        t.watch([w,b])\n",
        "        \n",
        "        current_prediction = prediction(x, w, b)\n",
        "        current_loss = loss(y_actual, current_prediction)\n",
        "    \n",
        "    #Calculate Gradients for Loss with respect to Weights and Bias\n",
        "    dw, db = t.gradient(current_loss,[w, b])\n",
        "    \n",
        "    #Update Weights and Bias\n",
        "    w = w - learning_rate*dw\n",
        "    b = b - learning_rate*db\n",
        "    \n",
        "    return w, b"
      ],
      "execution_count": 0,
      "outputs": []
    },
    {
      "cell_type": "markdown",
      "metadata": {
        "colab_type": "text",
        "id": "AW4SEP8kT2ls"
      },
      "source": [
        "## Question 10"
      ]
    },
    {
      "cell_type": "markdown",
      "metadata": {
        "id": "yeN0deOvT81N",
        "colab_type": "text"
      },
      "source": [
        "### Train the model for 100 epochs \n",
        "- Observe the training loss at every iteration"
      ]
    },
    {
      "cell_type": "code",
      "metadata": {
        "id": "Jjkn4gUgLevE",
        "colab_type": "code",
        "colab": {
          "base_uri": "https://localhost:8080/",
          "height": 1000
        },
        "outputId": "a000cb01-cddc-424f-db42-66f7525f79ed"
      },
      "source": [
        "for i in range(100):\n",
        "    \n",
        "    w, b = train(train_set, train_labels, w, b)\n",
        "    print('Current Loss on iteration', i, loss(train_labels, prediction(train_set, w, b)).numpy())"
      ],
      "execution_count": 219,
      "outputs": [
        {
          "output_type": "stream",
          "text": [
            "Current Loss on iteration 0 6535296.0\n",
            "Current Loss on iteration 1 3123993000000.0\n",
            "Current Loss on iteration 2 1.4933751e+18\n",
            "Current Loss on iteration 3 7.1388294e+23\n",
            "Current Loss on iteration 4 3.4125996e+29\n",
            "Current Loss on iteration 5 inf\n",
            "Current Loss on iteration 6 inf\n",
            "Current Loss on iteration 7 inf\n",
            "Current Loss on iteration 8 inf\n",
            "Current Loss on iteration 9 inf\n",
            "Current Loss on iteration 10 inf\n",
            "Current Loss on iteration 11 inf\n",
            "Current Loss on iteration 12 inf\n",
            "Current Loss on iteration 13 inf\n",
            "Current Loss on iteration 14 nan\n",
            "Current Loss on iteration 15 nan\n",
            "Current Loss on iteration 16 nan\n",
            "Current Loss on iteration 17 nan\n",
            "Current Loss on iteration 18 nan\n",
            "Current Loss on iteration 19 nan\n",
            "Current Loss on iteration 20 nan\n",
            "Current Loss on iteration 21 nan\n",
            "Current Loss on iteration 22 nan\n",
            "Current Loss on iteration 23 nan\n",
            "Current Loss on iteration 24 nan\n",
            "Current Loss on iteration 25 nan\n",
            "Current Loss on iteration 26 nan\n",
            "Current Loss on iteration 27 nan\n",
            "Current Loss on iteration 28 nan\n",
            "Current Loss on iteration 29 nan\n",
            "Current Loss on iteration 30 nan\n",
            "Current Loss on iteration 31 nan\n",
            "Current Loss on iteration 32 nan\n",
            "Current Loss on iteration 33 nan\n",
            "Current Loss on iteration 34 nan\n",
            "Current Loss on iteration 35 nan\n",
            "Current Loss on iteration 36 nan\n",
            "Current Loss on iteration 37 nan\n",
            "Current Loss on iteration 38 nan\n",
            "Current Loss on iteration 39 nan\n",
            "Current Loss on iteration 40 nan\n",
            "Current Loss on iteration 41 nan\n",
            "Current Loss on iteration 42 nan\n",
            "Current Loss on iteration 43 nan\n",
            "Current Loss on iteration 44 nan\n",
            "Current Loss on iteration 45 nan\n",
            "Current Loss on iteration 46 nan\n",
            "Current Loss on iteration 47 nan\n",
            "Current Loss on iteration 48 nan\n",
            "Current Loss on iteration 49 nan\n",
            "Current Loss on iteration 50 nan\n",
            "Current Loss on iteration 51 nan\n",
            "Current Loss on iteration 52 nan\n",
            "Current Loss on iteration 53 nan\n",
            "Current Loss on iteration 54 nan\n",
            "Current Loss on iteration 55 nan\n",
            "Current Loss on iteration 56 nan\n",
            "Current Loss on iteration 57 nan\n",
            "Current Loss on iteration 58 nan\n",
            "Current Loss on iteration 59 nan\n",
            "Current Loss on iteration 60 nan\n",
            "Current Loss on iteration 61 nan\n",
            "Current Loss on iteration 62 nan\n",
            "Current Loss on iteration 63 nan\n",
            "Current Loss on iteration 64 nan\n",
            "Current Loss on iteration 65 nan\n",
            "Current Loss on iteration 66 nan\n",
            "Current Loss on iteration 67 nan\n",
            "Current Loss on iteration 68 nan\n",
            "Current Loss on iteration 69 nan\n",
            "Current Loss on iteration 70 nan\n",
            "Current Loss on iteration 71 nan\n",
            "Current Loss on iteration 72 nan\n",
            "Current Loss on iteration 73 nan\n",
            "Current Loss on iteration 74 nan\n",
            "Current Loss on iteration 75 nan\n",
            "Current Loss on iteration 76 nan\n",
            "Current Loss on iteration 77 nan\n",
            "Current Loss on iteration 78 nan\n",
            "Current Loss on iteration 79 nan\n",
            "Current Loss on iteration 80 nan\n",
            "Current Loss on iteration 81 nan\n",
            "Current Loss on iteration 82 nan\n",
            "Current Loss on iteration 83 nan\n",
            "Current Loss on iteration 84 nan\n",
            "Current Loss on iteration 85 nan\n",
            "Current Loss on iteration 86 nan\n",
            "Current Loss on iteration 87 nan\n",
            "Current Loss on iteration 88 nan\n",
            "Current Loss on iteration 89 nan\n",
            "Current Loss on iteration 90 nan\n",
            "Current Loss on iteration 91 nan\n",
            "Current Loss on iteration 92 nan\n",
            "Current Loss on iteration 93 nan\n",
            "Current Loss on iteration 94 nan\n",
            "Current Loss on iteration 95 nan\n",
            "Current Loss on iteration 96 nan\n",
            "Current Loss on iteration 97 nan\n",
            "Current Loss on iteration 98 nan\n",
            "Current Loss on iteration 99 nan\n"
          ],
          "name": "stdout"
        }
      ]
    },
    {
      "cell_type": "markdown",
      "metadata": {
        "id": "vanvD93FV0_k",
        "colab_type": "text"
      },
      "source": [
        "### Observe values of Weight\n",
        "- Print the updated values"
      ]
    },
    {
      "cell_type": "code",
      "metadata": {
        "id": "QSqpy4gtWaOD",
        "colab_type": "code",
        "colab": {
          "base_uri": "https://localhost:8080/",
          "height": 104
        },
        "outputId": "7ecf8d44-4e59-4490-f84c-7fa2c780c555"
      },
      "source": [
        "print('Weights:\\n', w.numpy())"
      ],
      "execution_count": 200,
      "outputs": [
        {
          "output_type": "stream",
          "text": [
            "Weights:\n",
            " [[nan]\n",
            " [nan]\n",
            " [nan]\n",
            " [nan]]\n"
          ],
          "name": "stdout"
        }
      ]
    },
    {
      "cell_type": "markdown",
      "metadata": {
        "colab_type": "text",
        "id": "y9KpRupYUEwy"
      },
      "source": [
        "### Observe values of Bias\n",
        "- Print the updated values"
      ]
    },
    {
      "cell_type": "code",
      "metadata": {
        "colab_type": "code",
        "id": "bhEWkGqHWohg",
        "colab": {
          "base_uri": "https://localhost:8080/",
          "height": 52
        },
        "outputId": "f23be0ed-4146-4f6c-bd03-9bc4dbdcf179"
      },
      "source": [
        "print('Bias:\\n',b.numpy())"
      ],
      "execution_count": 201,
      "outputs": [
        {
          "output_type": "stream",
          "text": [
            "Bias:\n",
            " [nan]\n"
          ],
          "name": "stdout"
        }
      ]
    }
  ]
}